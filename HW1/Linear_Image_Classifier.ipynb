{
 "cells": [
  {
   "cell_type": "markdown",
   "metadata": {
    "id": "QnJUALElET8I"
   },
   "source": [
    "# Exercise 1: Linear Image Classifier\n",
    "\n",
    "In this exercise you will implement a linear image classifier while getting familiar with `numpy` and the benefits of vectorized operations in Python. This exercise has 2 parts:\n",
    "\n",
    "1. Implementing loss functions, calculating gradients and implementing gradient descent.\n",
    "2. Training and evaluating several classifiers.\n",
    "\n",
    "## Submission guidelines:\n",
    "\n",
    "Your submission should only include this jupyter notebook named HW1_ID.ipynb.\n",
    "\n",
    "## Read the following instructions carefully:\n",
    "\n",
    "1. This jupyter notebook contains all the step by step instructions needed for this exercise.\n",
    "2. Write **efficient vectorized** code whenever instructed. \n",
    "3. You are responsible for the correctness of your code and should add as many tests as you see fit. Tests will not be graded nor checked.\n",
    "4. Do not change the functions we provided you. \n",
    "4. Write your functions in the instructed python modules only. All the logic you write is imported and used using this jupyter notebook. You are allowed to add functions as long as they are located in the python modules and are imported properly.\n",
    "5. You are allowed to use functions and methods from the [Python Standard Library](https://docs.python.org/3/library/) and [numpy](https://www.numpy.org/devdocs/reference/) only. Any other imports are forbidden.\n",
    "6. Your code must run without errors.\n",
    "7. Answers to qualitative questions should be written in **markdown** cells (with $\\LaTeX$ support).\n",
    "8. **TIP: When there is a TODO before a missing code segment (or function), you can continue without implementing it right away; you will be referred to the missing segment later in the exercise.**"
   ]
  },
  {
   "cell_type": "markdown",
   "metadata": {
    "id": "_r1L4UklET8K"
   },
   "source": [
    "Q: What files do we need to upload to moodle?\n",
    "\n",
    "A: You should fill in the missing parts in this Jupyter notebook and then submit it via moodle (without any additional files).\n",
    "\n",
    "Q: How do I make sure everything works before I submit?\n",
    "\n",
    "A: You should restart your kernel and rerun all cells. Make sure you get the desired output and that you meet exercise requirements. **This is an important step. You should include your desired outputs in the output cells to make your code easier to understand.**"
   ]
  },
  {
   "cell_type": "markdown",
   "metadata": {
    "id": "UV9XOToVGvLZ"
   },
   "source": [
    "#### Imports"
   ]
  },
  {
   "cell_type": "code",
   "execution_count": 1,
   "metadata": {
    "id": "iLXvPpILET8K",
    "ExecuteTime": {
     "end_time": "2024-01-10T16:48:58.619967900Z",
     "start_time": "2024-01-10T16:48:57.977426Z"
    }
   },
   "outputs": [],
   "source": [
    "import os\n",
    "import numpy as np\n",
    "import matplotlib.pyplot as plt\n",
    "import pickle\n",
    "import numpy as np\n",
    "import os\n",
    "import sys\n",
    "import urllib.request\n",
    "import tarfile\n",
    "import zipfile\n",
    "from random import randrange\n",
    "from functools import partial\n",
    "import itertools\n",
    "import time\n",
    "\n",
    "# specify the way plots behave in jupyter notebook\n",
    "%matplotlib inline\n",
    "plt.rcParams['figure.figsize'] = (5.0, 3.0) # set default size of plots\n",
    "plt.rcParams['image.interpolation'] = 'nearest'\n",
    "plt.rcParams['image.cmap'] = 'gray'"
   ]
  },
  {
   "cell_type": "markdown",
   "metadata": {
    "heading_collapsed": true,
    "id": "BtYsC3I7ET8L"
   },
   "source": [
    "# Data preprocessing\n"
   ]
  },
  {
   "cell_type": "markdown",
   "metadata": {
    "hidden": true,
    "id": "-WovI1B4Gxwp"
   },
   "source": [
    "## Data download and processing Helper Code"
   ]
  },
  {
   "cell_type": "code",
   "execution_count": 2,
   "metadata": {
    "code_folding": [],
    "hidden": true,
    "id": "sC6iBqvmGYsn",
    "ExecuteTime": {
     "end_time": "2024-01-10T16:49:02.702563100Z",
     "start_time": "2024-01-10T16:49:02.692530800Z"
    }
   },
   "outputs": [],
   "source": [
    "def maybe_download_and_extract(url, download_dir):\n",
    "    \"\"\"\n",
    "    Download and extract the data if it doesn't already exist.\n",
    "    Assumes the url is a tar-ball file.\n",
    "    :param url:\n",
    "        Internet URL for the tar-file to download.\n",
    "        Example: \"https://www.cs.toronto.edu/~kriz/cifar-10-python.tar.gz\"\n",
    "    :param download_dir:\n",
    "        Directory where the downloaded file is saved.\n",
    "        Example: \"data/CIFAR-10/\"\n",
    "    :return:\n",
    "        Nothing.\n",
    "    \"\"\"\n",
    "\n",
    "    # Filename for saving the file downloaded from the internet.\n",
    "    # Use the filename from the URL and add it to the download_dir.\n",
    "    filename = url.split('/')[-1]\n",
    "    file_path = os.path.join(download_dir, filename)\n",
    "\n",
    "    # Check if the file already exists.\n",
    "    # If it exists then we assume it has also been extracted,\n",
    "    # otherwise we need to download and extract it now.\n",
    "    if not os.path.exists(file_path):\n",
    "        # Check if the download directory exists, otherwise create it.\n",
    "        if not os.path.exists(download_dir):\n",
    "            os.makedirs(download_dir)\n",
    "\n",
    "        # Download the file from the internet.\n",
    "        print(\"Downloading, This might take several minutes.\")\n",
    "        last_update_time = time.time()\n",
    "        file_path, _ = urllib.request.urlretrieve(url=url,\n",
    "                                                  filename=file_path)\n",
    "\n",
    "        print()\n",
    "        print(\"Download finished. Extracting files.\")\n",
    "\n",
    "        if file_path.endswith(\".zip\"):\n",
    "            # Unpack the zip-file.\n",
    "            zipfile.ZipFile(file=file_path, mode=\"r\").extractall(download_dir)\n",
    "        elif file_path.endswith((\".tar.gz\", \".tgz\")):\n",
    "            # Unpack the tar-ball.\n",
    "            tarfile.open(name=file_path, mode=\"r:gz\").extractall(download_dir)\n",
    "\n",
    "        print(\"Done.\")\n",
    "    else:\n",
    "        print(\"Data has apparently already been downloaded and unpacked.\")\n",
    "        print(\"If not, delete the dataset folder and try again.\")\n",
    "\n",
    "def load_CIFAR_batch(filename):\n",
    "    ''' load single batch of cifar '''\n",
    "    with open(filename, 'rb') as f:\n",
    "        datadict = pickle.load(f, encoding = 'latin1')\n",
    "        X = datadict['data']\n",
    "        Y = datadict['labels']\n",
    "        X = X.reshape(10000, 3, 32, 32).transpose(0, 2, 3, 1).astype(\"float\")\n",
    "        Y = np.array(Y)\n",
    "        return X, Y\n",
    "\n",
    "def load(ROOT):\n",
    "    ''' load all of cifar '''\n",
    "    xs = []\n",
    "    ys = []\n",
    "    for b in range(1, 6):\n",
    "        f = os.path.join(ROOT, 'data_batch_%d' % (b, ))\n",
    "        X, Y = load_CIFAR_batch(f)\n",
    "        xs.append(X)\n",
    "        ys.append(Y)\n",
    "    Xtr = np.concatenate(xs)\n",
    "    Ytr = np.concatenate(ys)\n",
    "    del X, Y\n",
    "    Xte, Yte = load_CIFAR_batch(os.path.join(ROOT, 'test_batch'))\n",
    "    return Xtr, Ytr, Xte, Yte"
   ]
  },
  {
   "cell_type": "markdown",
   "metadata": {
    "hidden": true,
    "id": "0qfmwr8lG3S8"
   },
   "source": [
    "## Data Download\n",
    "\n",
    "The next cell will download and extract CIFAR-10 into `datasets/cifar10/`. The CIFAR-10 dataset consists of 60,000 32x32 color images in 10 classes, with 6,000 images per class. There are 50,000 training images and 10,000 test images. The dataset is divided into five training batches and one test batch, each with 10,000 images. The test batch contains exactly 1,000 randomly-selected images from each class.\n"
   ]
  },
  {
   "cell_type": "code",
   "execution_count": 3,
   "metadata": {
    "colab": {
     "base_uri": "https://localhost:8080/"
    },
    "hidden": true,
    "id": "eBbBnxJpET8L",
    "outputId": "19b0cf20-9282-492c-cad8-8d959975a10e",
    "ExecuteTime": {
     "end_time": "2024-01-10T16:49:07.360648100Z",
     "start_time": "2024-01-10T16:49:07.348456400Z"
    }
   },
   "outputs": [
    {
     "name": "stdout",
     "output_type": "stream",
     "text": [
      "Data has apparently already been downloaded and unpacked.\n",
      "If not, delete the dataset folder and try again.\n"
     ]
    }
   ],
   "source": [
    "# this cell will download the data if it does not exists\n",
    "URL = \"https://www.cs.toronto.edu/~kriz/cifar-10-python.tar.gz\"\n",
    "PATH = 'datasets/cifar10/' # the script will create required directories\n",
    "maybe_download_and_extract(URL, PATH) "
   ]
  },
  {
   "cell_type": "markdown",
   "metadata": {
    "hidden": true,
    "id": "AIyo61vC-Dmv"
   },
   "source": [
    "## Data Preprocessing Part 1"
   ]
  },
  {
   "cell_type": "markdown",
   "metadata": {
    "hidden": true,
    "id": "ersTr2wB-RAd"
   },
   "source": [
    "We have included several image processing functions. Notice the following in particular: we created an additional validation dataset you need to use for hyperparameter optimization."
   ]
  },
  {
   "cell_type": "code",
   "execution_count": 4,
   "metadata": {
    "hidden": true,
    "id": "NFUWV8LnET8M",
    "ExecuteTime": {
     "end_time": "2024-01-10T16:49:12.234926200Z",
     "start_time": "2024-01-10T16:49:09.534934500Z"
    }
   },
   "outputs": [],
   "source": [
    "CIFAR10_PATH = os.path.join(PATH, 'cifar-10-batches-py')\n",
    "X_train, y_train, X_test, y_test = load(CIFAR10_PATH) # load the entire data\n",
    "\n",
    "# taking only two classes from the dataset\n",
    "X_train = X_train[np.logical_or(y_train == 0, y_train == 1)]\n",
    "y_train = y_train[np.logical_or(y_train == 0, y_train == 1)]\n",
    "X_test = X_test[np.logical_or(y_test == 0, y_test == 1)]\n",
    "y_test = y_test[np.logical_or(y_test == 0, y_test == 1)]\n",
    "\n",
    "# define a splitting for the data\n",
    "num_training = 10000\n",
    "num_validation = 1000\n",
    "num_testing = 1000\n",
    "\n",
    "mask = range(num_training)\n",
    "X_train = X_train[mask]\n",
    "y_train = y_train[mask]\n",
    "# portion from the test dataset a validation dataset for hyperparameter optimization\n",
    "mask = range(num_validation)\n",
    "X_val = X_test[mask]\n",
    "y_val = y_test[mask]\n",
    "# test dataset, without overlap with train/validation\n",
    "mask = range(num_validation, num_validation+num_testing)\n",
    "X_test = X_test[mask]\n",
    "y_test = y_test[mask]\n",
    "\n",
    "# float64\n",
    "X_train = X_train.astype(np.float64)\n",
    "X_val = X_val.astype(np.float64)\n",
    "X_test = X_test.astype(np.float64)\n",
    "\n",
    "classes = ('plane', 'car')"
   ]
  },
  {
   "cell_type": "code",
   "execution_count": 5,
   "metadata": {
    "colab": {
     "base_uri": "https://localhost:8080/",
     "height": 151
    },
    "hidden": true,
    "id": "Daycmt2x5cVS",
    "outputId": "fe9e8a0d-66eb-4fa3-9196-462a2da8c180",
    "ExecuteTime": {
     "end_time": "2024-01-10T16:49:13.321806900Z",
     "start_time": "2024-01-10T16:49:13.159678800Z"
    }
   },
   "outputs": [
    {
     "name": "stdout",
     "output_type": "stream",
     "text": [
      "      car\t    plane\t    plane\t    plane\n"
     ]
    },
    {
     "data": {
      "text/plain": "<Figure size 500x300 with 1 Axes>",
      "image/png": "[encoded data removed]"
     },
     "metadata": {},
     "output_type": "display_data"
    }
   ],
   "source": [
    "def get_batch(X, y, n=1000):\n",
    "    rand_items = np.random.randint(0, X.shape[0], size=n)\n",
    "    images = X[rand_items]\n",
    "    labels = y[rand_items]\n",
    "    return images, labels\n",
    "\n",
    "def make_random_grid(x, y, n=4, convert_to_image=True, random_flag=True):\n",
    "    if random_flag:\n",
    "        rand_items = np.random.randint(0, x.shape[0], size=n)\n",
    "    else:\n",
    "        rand_items = np.arange(0, x.shape[0])\n",
    "    images = x[rand_items]\n",
    "    labels = y[rand_items]\n",
    "    if convert_to_image:\n",
    "        grid = np.hstack(np.array([np.asarray((vec_2_img(i) + mean_image), dtype=np.int64) for i in images]))\n",
    "    else:\n",
    "        grid = np.hstack(np.array([np.asarray(i, dtype=np.int64) for i in images]))\n",
    "    print('\\t'.join('%9s' % classes[labels[j]] for j in range(n)))\n",
    "    return grid\n",
    "\n",
    "def vec_2_img(x):\n",
    "    x = np.reshape(x[:-1], (32, 32, 3))\n",
    "    return x\n",
    "\n",
    "X_batch, y_batch = get_batch(X_test, y_test, 100)\n",
    "plt.imshow(make_random_grid(X_batch, y_batch, n=4, convert_to_image=False));"
   ]
  },
  {
   "cell_type": "markdown",
   "metadata": {
    "hidden": true,
    "id": "RhismcUO9-xk"
   },
   "source": [
    "## Data Preprocessing Part 2\n",
    "\n",
    "We have included several image processing functions. Notice the following in particular: We subtracted the mean from all the images in order to ignore illumination conditions while keeping the content of the image. Next, we flattened the images from a tensor of shape (32x32x3) to a vector with 3072 features (pixel values) so we would be able to use a simple matrix multiplication. Finally, we concatenated each image vector with an additional feature to account for the bias. This is known as the bias trick. \n",
    "\n",
    "Make sure you understand this image processing pipeline before diving into the rest of the code."
   ]
  },
  {
   "cell_type": "code",
   "execution_count": 6,
   "metadata": {
    "colab": {
     "base_uri": "https://localhost:8080/"
    },
    "hidden": true,
    "id": "C9YCYi5KZhXD",
    "outputId": "d0d032ee-5e2d-498f-b907-3ecc1fd895ef",
    "ExecuteTime": {
     "end_time": "2024-01-10T16:49:16.606282800Z",
     "start_time": "2024-01-10T16:49:16.331156400Z"
    }
   },
   "outputs": [
    {
     "name": "stdout",
     "output_type": "stream",
     "text": [
      "Shape of Training Set: (10000, 3073)\n",
      "Shape of Validation Set: (1000, 3073)\n",
      "Shape of Test Set: (1000, 3073)\n"
     ]
    }
   ],
   "source": [
    "# Final data preprocessing\n",
    "# subtract the mean from all the images in the batch\n",
    "mean_image = np.mean(X_train, axis=0)\n",
    "X_train -= mean_image\n",
    "X_val -= mean_image\n",
    "X_test -= mean_image\n",
    "\n",
    "# flatten all the images in the batch (make sure you understand why this is needed)\n",
    "X_train = np.reshape(X_train, newshape=(X_train.shape[0], -1))\n",
    "X_val = np.reshape(X_val, newshape=(X_val.shape[0], -1)) \n",
    "X_test = np.reshape(X_test, newshape=(X_test.shape[0], -1)) \n",
    "\n",
    "# add a bias term to all images in the batch\n",
    "X_train = np.hstack([X_train, np.ones((X_train.shape[0], 1))]) \n",
    "X_val = np.hstack([X_val, np.ones((X_val.shape[0], 1))]) \n",
    "X_test = np.hstack([X_test, np.ones((X_test.shape[0], 1))]) \n",
    "\n",
    "print(f\"Shape of Training Set: {X_train.shape}\")\n",
    "print(f\"Shape of Validation Set: {X_val.shape}\")\n",
    "print(f\"Shape of Test Set: {X_test.shape}\")"
   ]
  },
  {
   "cell_type": "markdown",
   "metadata": {
    "id": "1BX0bVW0ET8N"
   },
   "source": [
    "# Linear classifier: mapping images to scores\n",
    "\n",
    "During this exercise, we will maintain a python class with basic functionality (such as training the model). the linear classifiers we will build (perceptron, logistic regression) will inherit some functionality from that class and will change several functions (such as the loss function, for example). Read the code in the next cell and make sure you understand it. You might also find this [short classes in python tutorial](https://www.hackerearth.com/practice/python/object-oriented-programming/classes-and-objects-i/tutorial/) useful.\n"
   ]
  },
  {
   "cell_type": "code",
   "execution_count": 7,
   "metadata": {
    "id": "FXAVk7l6LVty",
    "ExecuteTime": {
     "end_time": "2024-01-10T16:49:20.095336Z",
     "start_time": "2024-01-10T16:49:20.076215100Z"
    }
   },
   "outputs": [],
   "source": [
    "class LinearClassifier(object):\n",
    "    def __init__(self, X, y):\n",
    "        \"\"\"\n",
    "        Class constructor. Use this method to initiate the parameters of\n",
    "        your model (W)\n",
    "        *** Subclasses will override this. ***\n",
    "\n",
    "        Inputs:\n",
    "        - X: array of data - a 2D array of size (num_instances=N, num_features)\n",
    "        - y: 1-dimensional array of length N with binary labels\n",
    "\n",
    "        This function has no return value\n",
    "\n",
    "        \"\"\"\n",
    "        pass\n",
    "\n",
    "    def predict(self, X):\n",
    "        \"\"\"\n",
    "        Use the weight of the classifier to predict a label. \n",
    "        *** Subclasses will override this. ***\n",
    "\n",
    "        Input: 2D array of size (num_instances, num_features).\n",
    "        Output: 1D array of class predictions (num_instances, 1). \n",
    "        \"\"\"\n",
    "        pass\n",
    "\n",
    "    def calc_accuracy(self, X, y):\n",
    "        \"\"\"\n",
    "        Calculate the accuracy on a dataset as the percentage of instances \n",
    "        that are classified correctly. \n",
    "\n",
    "        Inputs:\n",
    "        - W: array of weights\n",
    "        - X: array of data\n",
    "        - y: 1-dimensional array of length N with binary labels\n",
    "        Returns:\n",
    "        - accuracy as a single float\n",
    "        \"\"\"\n",
    "\n",
    "        accuracy = 0.0\n",
    "        ###########################################################################\n",
    "        # TODO: Implement this method.                                            #\n",
    "        ###########################################################################\n",
    "        #                          START OF YOUR CODE                             #\n",
    "        ###########################################################################\n",
    "        predictions = self.predict(X)\n",
    "        accuracy = np.mean(predictions == y)      \n",
    "        \n",
    "        ###########################################################################\n",
    "        #                           END OF YOUR CODE                              #\n",
    "        ###########################################################################\n",
    "\n",
    "        return accuracy\n",
    "\n",
    "\n",
    "    def train(self, X, y, learning_rate=1e-3, num_iters=100, batch_size=200, verbose=False):\n",
    "        #########################################################################\n",
    "        # TODO:                                                                 #\n",
    "        # Sample batch_size elements from the training data and their           #\n",
    "        # corresponding labels to use in every iteration.                       #\n",
    "        # Store the data in X_batch and their corresponding labels in           #\n",
    "        # y_batch                                                               #\n",
    "        #                                                                       #\n",
    "        # Hint: Use np.random.choice to generate indices. Sampling with         #\n",
    "        # replacement is faster than sampling without replacement.              #\n",
    "        #                                                                       #\n",
    "        # Next, calculate the loss and gradient and update the weights using    #\n",
    "        # the learning rate. Use the loss_history array to save the loss on     #\n",
    "        # iteration to visualize the loss.                                      #\n",
    "        #########################################################################\n",
    "        num_instances = X.shape[0]\n",
    "        loss_history = []\n",
    "        loss = 0.0\n",
    "        for i in range(num_iters):\n",
    "            X_batch = None\n",
    "            y_batch = None\n",
    "            ###########################################################################\n",
    "            # Create X_batch and y_batch. Call the loss method to get the loss value  # \n",
    "            # and grad (the loss function is being override, see the loss             #\n",
    "            # function return values).                                                #\n",
    "            # Finally, append each of the loss values created in each iteration       #\n",
    "            # to loss_history.                                                        #\n",
    "            ###########################################################################\n",
    "            #                          START OF YOUR CODE                             #\n",
    "            ###########################################################################\n",
    "            batch_elements = np.random.choice(X.shape[1], size=batch_size, replace = True)\n",
    "            X_batch = X[batch_elements, :]\n",
    "            y_batch = y[batch_elements]\n",
    "            loss, dW = self.loss(X_batch, y_batch)\n",
    "            loss_history.append(loss)\n",
    "                       \n",
    "            ###########################################################################\n",
    "            #                           END OF YOUR CODE                              #\n",
    "            ###########################################################################\n",
    "            # TODO:                                                                   #\n",
    "            # Perform parameter update                                                #\n",
    "            # Update the weights using the gradient and the learning rate.            #\n",
    "            ###########################################################################\n",
    "            #                          START OF YOUR CODE                             #                                                         #\n",
    "            ###########################################################################\n",
    "            self.W = self.W - learning_rate*dW\n",
    "            \n",
    "            ###########################################################################\n",
    "            #                       END OF YOUR CODE                                  #\n",
    "            ###########################################################################\n",
    "\n",
    "            if verbose and i % 100 == 0:\n",
    "                print ('iteration %d / %d: loss %f' % (i, num_iters, loss))\n",
    "\n",
    "        return loss_history\n",
    "\n",
    "\n",
    "    def loss(self, X, y):\n",
    "        \"\"\"\n",
    "        Compute the loss function and its derivative. \n",
    "        Subclasses will override this.\n",
    "        Inputs:\n",
    "        - X_batch: A numpy array of shape (N, D) containing a minibatch of N\n",
    "          data points; each point has dimension D.\n",
    "        - y_batch: A numpy array of shape (N,) containing labels for the minibatch.\n",
    "        Returns: A tuple containing:\n",
    "        - loss as a single float\n",
    "        - gradient with respect to self.W; an array of the same shape as W\n",
    "        \"\"\"\n",
    "        pass"
   ]
  },
  {
   "cell_type": "markdown",
   "metadata": {
    "id": "p9WqAhlmLMGU"
   },
   "source": [
    "## Linear perceptron\n",
    "Our first linear classifier will include a linear function that maps images to score/scores:\n",
    "\n",
    "$$\n",
    "f(x_i; W, b) = W\\cdot x_i + b\n",
    "$$\n",
    "\n",
    "In the multiclass case, W will be a matrix that maps the input into scores (score for each class) and the final prediction will be the class with the highest score.\n",
    "The binary case is a special case where you can choose to implement W as a 2 dim matrix or as a vector. The first option treats the binary problem as a multiclass problem with 2 classes, therefore, the prediction will be the class with the highest score. In case you choose to implement W as a vector (which map the input to a single score), the final prediction is done by:\n",
    "\n",
    "\n",
    "if w·x+b > 0 classify the target as 1, else classify the target as 0.\n",
    "\n",
    "**Important Note** - In this exercise we focus on the binary case, and you should implement W as a vector.\n",
    "\n",
    "Your goal is to **learn** the parameters $W$ and $b$ to best classify the images according to the provided labels.\n",
    "\n",
    "Read the next code cell. The constructor of the `LinearPerceptron` class takes as input the dataset and labels in order to create appropriate parameters. Notice we are using the bias trick and only use `w` for convenience. You may initialize `w` randomly ([0,1] or [-1,1]).\n",
    "\n",
    "Since we already have a (random) model, we can start predicting classes on images. Complete the method `predict` in the `LinearPerceptron` class. **(5 Points)**"
   ]
  },
  {
   "cell_type": "code",
   "execution_count": 8,
   "metadata": {
    "id": "cfLTGvYILcJw",
    "ExecuteTime": {
     "end_time": "2024-01-10T16:49:25.372829200Z",
     "start_time": "2024-01-10T16:49:25.363645500Z"
    }
   },
   "outputs": [],
   "source": [
    "class LinearPerceptron(LinearClassifier):\n",
    "    # Classifier that uses Perceptron loss\n",
    "\n",
    "    def __init__(self, X, y):\n",
    "        ###########################################################################\n",
    "        # Initiate the parameters of your model.                                  #\n",
    "        # You can assume y takes values 0...K-1 where K is number of classes      #\n",
    "        ###########################################################################\n",
    "        #                          START OF YOUR CODE                             # \n",
    "        ###########################################################################\n",
    "        super().__init__(X,y)\n",
    "        #self.W = np.random.uniform(low=-1, high=1, size=(X.shape[1],1))\n",
    "        self.W = np.random.randn(X.shape[1],1)*0.0001\n",
    "        ###########################################################################\n",
    "        #                           END OF YOUR CODE                              #\n",
    "        ###########################################################################\n",
    "\n",
    "\n",
    "    def predict(self, X):\n",
    "        y_pred = None\n",
    "        ###########################################################################\n",
    "        # Implement this method.                                                  #\n",
    "        ###########################################################################\n",
    "        #                          START OF YOUR CODE                             # \n",
    "        ###########################################################################\n",
    "        y_pred = np.dot(X, self.W)\n",
    "        y_pred = np.where(y_pred > 0, 1, 0)\n",
    "        y_pred = y_pred.reshape(-1)\n",
    "        \n",
    "        ###########################################################################\n",
    "        #                           END OF YOUR CODE                              #\n",
    "        ###########################################################################\n",
    "        return y_pred\n",
    "\n",
    "\n",
    "    def loss(self, X_batch, y_batch):\n",
    "        # perceptron_loss_vectorized will be implemented later\n",
    "        return perceptron_loss_vectorized(self.W, X_batch, y_batch)"
   ]
  },
  {
   "cell_type": "code",
   "execution_count": 9,
   "metadata": {
    "id": "2cb3cgLeET8N",
    "ExecuteTime": {
     "end_time": "2024-01-10T16:49:29.226360900Z",
     "start_time": "2024-01-10T16:49:29.212048400Z"
    }
   },
   "outputs": [],
   "source": [
    "classifier = LinearPerceptron(X_train, y_train)\n",
    "y_pred = classifier.predict(X_test)"
   ]
  },
  {
   "cell_type": "code",
   "execution_count": 10,
   "metadata": {
    "colab": {
     "base_uri": "https://localhost:8080/",
     "height": 151
    },
    "id": "w2Cv7adkET8N",
    "outputId": "752d16c3-3e78-4b87-e410-62be8eaf5035",
    "ExecuteTime": {
     "end_time": "2024-01-10T16:49:30.831746500Z",
     "start_time": "2024-01-10T16:49:30.716731600Z"
    }
   },
   "outputs": [
    {
     "name": "stdout",
     "output_type": "stream",
     "text": [
      "    plane\t    plane\t    plane\t    plane\n"
     ]
    },
    {
     "data": {
      "text/plain": "<Figure size 500x300 with 1 Axes>",
      "image/png": "[encoded data removed]"
     },
     "metadata": {},
     "output_type": "display_data"
    }
   ],
   "source": [
    "X_batch, y_batch = get_batch(X_train, y_train, 4)\n",
    "plt.imshow(make_random_grid(X_batch, y_batch, convert_to_image=True))\n",
    "plt.show()"
   ]
  },
  {
   "cell_type": "code",
   "execution_count": 11,
   "metadata": {
    "colab": {
     "base_uri": "https://localhost:8080/"
    },
    "id": "BKUh3OFFET8N",
    "outputId": "2a295c68-b089-4848-e533-966c764324cc",
    "ExecuteTime": {
     "end_time": "2024-01-10T16:49:32.553864100Z",
     "start_time": "2024-01-10T16:49:32.534424300Z"
    }
   },
   "outputs": [
    {
     "name": "stdout",
     "output_type": "stream",
     "text": [
      "      car     plane     plane     plane\n"
     ]
    }
   ],
   "source": [
    "# predictions\n",
    "print(' '.join('%9s' % classes[y_pred[j]] for j in range(4)))"
   ]
  },
  {
   "cell_type": "markdown",
   "metadata": {
    "id": "N-1RXh-lET8O"
   },
   "source": [
    "## Evaluation \n",
    "\n",
    "Complete the class method `calc_accuracy`. **(5 Points)**"
   ]
  },
  {
   "cell_type": "code",
   "execution_count": 12,
   "metadata": {
    "colab": {
     "base_uri": "https://localhost:8080/"
    },
    "id": "IiSJ5-wvET8O",
    "outputId": "2fffb0c5-551f-4ae5-e0c4-3082d1a86338",
    "ExecuteTime": {
     "end_time": "2024-01-10T16:49:34.544921400Z",
     "start_time": "2024-01-10T16:49:34.475372400Z"
    }
   },
   "outputs": [
    {
     "name": "stdout",
     "output_type": "stream",
     "text": [
      "model accuracy:  0.5802\n"
     ]
    }
   ],
   "source": [
    "print(\"model accuracy: \", classifier.calc_accuracy(X_train, y_train))"
   ]
  },
  {
   "cell_type": "markdown",
   "metadata": {
    "id": "fAFp3MOYET8O"
   },
   "source": [
    "**Explain why the accuracy on the training dataset is around 50% (remember, the model is not trained yet). **(5 Points)**** \n",
    "\n",
    "Answer: Since the model isn't trained yet and W chosen randomly (and uniformly), the probability to get the correct answer is random between 2 choices with the same probability - 0.5"
   ]
  },
  {
   "cell_type": "markdown",
   "metadata": {
    "id": "kuFKR-UKET8O"
   },
   "source": [
    "## Perceptron loss\n",
    "\n",
    "Your code for this section will all be written in the next cell. In this section, we write and test code outside the classes for convenience. Notice the loss method for each class is just a call for the loss function written in the next cell. Once you are finished with implementation, everything should work.\n",
    "\n",
    "First, complete the function `perceptron_loss_naive`. This function takes as input the weights, data, labels and outputs the calculated loss as a single number and the gradients with respect to W.  **(15 points)**"
   ]
  },
  {
   "cell_type": "code",
   "execution_count": 13,
   "metadata": {
    "id": "McEGmknNYFXC",
    "ExecuteTime": {
     "end_time": "2024-01-10T16:49:36.740442700Z",
     "start_time": "2024-01-10T16:49:36.732645200Z"
    }
   },
   "outputs": [],
   "source": [
    "def perceptron_loss_naive(W, X, y):\n",
    "    \"\"\"\n",
    "    Structured perceptron loss function, naive implementation (with loops)\n",
    "    Inputs:\n",
    "    - W: array of weights\n",
    "    - X: array of data\n",
    "    - y: 1-dimensional array of length N with labels 0...K-1, for K classes\n",
    "    Returns:\n",
    "    a tuple of:\n",
    "    - loss as single float\n",
    "    - gradient with respect to weights W; an array of same shape as W\n",
    "    \"\"\"\n",
    "    loss = 0.0\n",
    "    dW = np.zeros(W.shape) # initialize the gradient as zero\n",
    "    #############################################################################\n",
    "    # Compute the perceptron loss as learned in class. Start by iterating over  #\n",
    "    # over all instances and calculate the score and true score for each.       #\n",
    "    # Now, for each class determine if the prediction is correct and update the #\n",
    "    # loss over all mistakes.                                                   #\n",
    "    # Compute the gradient of the loss function and store it as dW.             #\n",
    "    # Rather that first computing the loss and then computing the derivative,   #\n",
    "    # it may be simpler to compute the derivative at the same time that the     #\n",
    "    # loss is being computed.                                                   #\n",
    "    #############################################################################\n",
    "    num_samples, num_features = X.shape\n",
    "    \n",
    "    for i in range(num_samples):\n",
    "        y_pred_score = X[i].dot(W)\n",
    "        target = np.where(y_pred_score > 0, 1, 0)\n",
    "        if y[i] != target:\n",
    "            if y[i] == 0:\n",
    "                loss += max(0, y_pred_score)\n",
    "                dW += X[i].reshape(-1,1)\n",
    "            else:\n",
    "                loss += max(0, -y_pred_score)\n",
    "                dW += -X[i].reshape(-1,1)\n",
    "\n",
    "    \n",
    "    loss /= num_samples\n",
    "    dW /= num_samples\n",
    "\n",
    "    \n",
    "    #############################################################################\n",
    "    #                             END OF YOUR CODE                              #\n",
    "    #############################################################################\n",
    "    return loss, dW"
   ]
  },
  {
   "cell_type": "code",
   "execution_count": 14,
   "metadata": {
    "id": "tGcQrlGJET8O",
    "ExecuteTime": {
     "end_time": "2024-01-10T16:49:41.051770200Z",
     "start_time": "2024-01-10T16:49:41.036132400Z"
    }
   },
   "outputs": [],
   "source": [
    "W = np.random.randn(3073, 1) * 0.0001"
   ]
  },
  {
   "cell_type": "code",
   "execution_count": 15,
   "metadata": {
    "colab": {
     "base_uri": "https://localhost:8080/"
    },
    "id": "UKmH67DEET8O",
    "outputId": "fe871e58-b641-40d3-accd-7e1cd4d0dc1b",
    "ExecuteTime": {
     "end_time": "2024-01-10T16:49:42.464617100Z",
     "start_time": "2024-01-10T16:49:42.420342300Z"
    }
   },
   "outputs": [
    {
     "name": "stdout",
     "output_type": "stream",
     "text": [
      "loss: 0.117486\n",
      "CPU times: total: 0 ns\n",
      "Wall time: 17.8 ms\n"
     ]
    }
   ],
   "source": [
    "%%time\n",
    "loss_naive, _ = perceptron_loss_naive(W, X_val, y_val)\n",
    "print ('loss: %f' % (loss_naive))"
   ]
  },
  {
   "cell_type": "markdown",
   "metadata": {
    "id": "Z-Hh-R7bET8P"
   },
   "source": [
    "Once your code works, complete the function `perceptron_loss_vectorized` and compare the results of the two functions using the cell below. **(15 points)**"
   ]
  },
  {
   "cell_type": "code",
   "execution_count": 16,
   "metadata": {
    "id": "w1HLNSCWYIRK",
    "ExecuteTime": {
     "end_time": "2024-01-10T16:49:43.903257400Z",
     "start_time": "2024-01-10T16:49:43.893189400Z"
    }
   },
   "outputs": [],
   "source": [
    "def perceptron_loss_vectorized(W, X, y):\n",
    "    \"\"\"\n",
    "    Vectorized version of perceptron_loss_naive. instead of loops, should use \n",
    "    numpy vectorization.\n",
    "\n",
    "    Inputs and outputs are the same as perceptron_loss_naive.\n",
    "    \"\"\"\n",
    "    loss = 0.0\n",
    "    dW = np.zeros(W.shape) # initialize the gradient as zero\n",
    "    #############################################################################\n",
    "    # Implement a vectorized version of the perceptron loss, storing the       #\n",
    "    # result in loss and the gradient in dW                                     #\n",
    "    #############################################################################\n",
    "    num_samples, num_features = X.shape\n",
    "    \n",
    "    y_pred_scores = X.dot(W)\n",
    "    targets = np.where(y_pred_scores > 0, 1, 0)\n",
    "    signed_targets = np.sign(y_pred_scores)\n",
    "    signed_targets[targets != y.reshape(-1,1)] = -signed_targets[targets != y.reshape(-1,1)]\n",
    "    punishment = np.maximum(0, - signed_targets * y_pred_scores)\n",
    "    \n",
    "    loss = np.sum(punishment)\n",
    "    signed_targets[punishment == 0] = 0\n",
    "    dW = np.dot(-signed_targets.reshape(-1,1).T, X).T\n",
    "\n",
    "    loss /= num_samples\n",
    "    dW /= num_samples\n",
    "    #############################################################################\n",
    "    #                             END OF YOUR CODE                              #\n",
    "    #############################################################################\n",
    "    return loss, dW"
   ]
  },
  {
   "cell_type": "code",
   "execution_count": 17,
   "metadata": {
    "colab": {
     "base_uri": "https://localhost:8080/"
    },
    "id": "_puMMu8vET8P",
    "outputId": "910a25b9-0067-4c02-fb5d-5b11137458ec",
    "scrolled": true,
    "ExecuteTime": {
     "end_time": "2024-01-10T16:50:37.158104900Z",
     "start_time": "2024-01-10T16:50:37.141498Z"
    }
   },
   "outputs": [
    {
     "name": "stdout",
     "output_type": "stream",
     "text": [
      "loss: 0.117486\n",
      "CPU times: total: 0 ns\n",
      "Wall time: 3.28 ms\n"
     ]
    }
   ],
   "source": [
    "%%time\n",
    "loss_vectorized, _ = perceptron_loss_vectorized(W, X_val, y_val)\n",
    "print ('loss: %f' % (loss_vectorized))"
   ]
  },
  {
   "cell_type": "markdown",
   "metadata": {
    "id": "E6oNHXGHET8P"
   },
   "source": [
    "You might not see big changes in time due to other computing factors. In big enough datasets it would be crucial to use the vectorized version.\n",
    "\n",
    "We have obtained an efficient function for loss and gradient calculation and we can now train our network. Complete the function `train` in the `LinearClassifier` class. (**15 points**)"
   ]
  },
  {
   "cell_type": "code",
   "execution_count": 18,
   "metadata": {
    "colab": {
     "base_uri": "https://localhost:8080/"
    },
    "id": "_QtvCxghET8P",
    "outputId": "1aaeba56-864b-442f-ef6c-a3e0e9fe7c08",
    "ExecuteTime": {
     "end_time": "2024-01-10T16:50:43.536004800Z",
     "start_time": "2024-01-10T16:50:39.688604Z"
    }
   },
   "outputs": [
    {
     "name": "stdout",
     "output_type": "stream",
     "text": [
      "iteration 0 / 1500: loss 0.096570\n",
      "iteration 100 / 1500: loss 0.024965\n",
      "iteration 200 / 1500: loss 0.023164\n",
      "iteration 300 / 1500: loss 0.015000\n",
      "iteration 400 / 1500: loss 0.016212\n",
      "iteration 500 / 1500: loss 0.018376\n",
      "iteration 600 / 1500: loss 0.015920\n",
      "iteration 700 / 1500: loss 0.013288\n",
      "iteration 800 / 1500: loss 0.009569\n",
      "iteration 900 / 1500: loss 0.011718\n",
      "iteration 1000 / 1500: loss 0.011896\n",
      "iteration 1100 / 1500: loss 0.010945\n",
      "iteration 1200 / 1500: loss 0.007876\n",
      "iteration 1300 / 1500: loss 0.009049\n",
      "iteration 1400 / 1500: loss 0.007366\n",
      "CPU times: total: 344 ms\n",
      "Wall time: 3.83 s\n"
     ]
    }
   ],
   "source": [
    "%%time\n",
    "perceptron = LinearPerceptron(X_train, y_train)\n",
    "loss_history = perceptron.train(X_train, y_train, learning_rate=1e-7, \n",
    "                                num_iters=1500, verbose=True)"
   ]
  },
  {
   "cell_type": "code",
   "execution_count": 19,
   "metadata": {
    "colab": {
     "base_uri": "https://localhost:8080/",
     "height": 279
    },
    "id": "_jzvksCFET8P",
    "outputId": "35a93ae5-393f-43ba-ce4c-a0ade49eb1e9",
    "ExecuteTime": {
     "end_time": "2024-01-10T16:50:59.569860100Z",
     "start_time": "2024-01-10T16:50:59.432763900Z"
    }
   },
   "outputs": [
    {
     "data": {
      "text/plain": "<Figure size 500x300 with 1 Axes>",
      "image/png": "[encoded data removed]"
     },
     "metadata": {},
     "output_type": "display_data"
    }
   ],
   "source": [
    "plt.plot(loss_history)\n",
    "plt.xlabel('Iteration number')\n",
    "plt.ylabel('Loss value')\n",
    "plt.show()"
   ]
  },
  {
   "cell_type": "code",
   "execution_count": 20,
   "metadata": {
    "colab": {
     "base_uri": "https://localhost:8080/"
    },
    "id": "eFNormxyET8P",
    "outputId": "7aa6b408-7826-4d59-a99c-5f40725a0b1f",
    "ExecuteTime": {
     "end_time": "2024-01-10T16:51:02.127371700Z",
     "start_time": "2024-01-10T16:51:02.089079400Z"
    }
   },
   "outputs": [
    {
     "name": "stdout",
     "output_type": "stream",
     "text": [
      "Training accuracy:  0.7661\n",
      "Testing accuracy:  0.773\n"
     ]
    }
   ],
   "source": [
    "print(\"Training accuracy: \", perceptron.calc_accuracy(X_train, y_train))\n",
    "print(\"Testing accuracy: \", perceptron.calc_accuracy(X_test, y_test))"
   ]
  },
  {
   "cell_type": "markdown",
   "metadata": {
    "id": "R277VSx8ET8P"
   },
   "source": [
    "## Hyperparameter optimization\n",
    "\n",
    "Your model should have improved from 50% accuracy to ~75% accuracy in a matter of seconds. Now, use the validation set to tune hyperparameters by training different models (using the training dataset) and evaluating the performance using the validation dataset. Save the results in a dictionary mapping tuples of the form `(learning_rate, batch_size)` to tuples of the form `(training_accuracy, validation_accuracy)`. Finally, you should evaluate the best model on the testing dataset. \n",
    "\n",
    "Use a small value for the number of iterations as you develop your code. Once you are confident that everything works, run it again for more iterations. **(5 points)**\n"
   ]
  },
  {
   "cell_type": "code",
   "execution_count": 21,
   "metadata": {
    "colab": {
     "base_uri": "https://localhost:8080/"
    },
    "id": "m_g5iSBQET8Q",
    "outputId": "95953a49-5ff4-456e-db93-734fad51b975",
    "ExecuteTime": {
     "end_time": "2024-01-10T16:51:50.777460300Z",
     "start_time": "2024-01-10T16:51:04.464314700Z"
    }
   },
   "outputs": [
    {
     "name": "stdout",
     "output_type": "stream",
     "text": [
      "iteration 0 / 1500: loss 0.109084\n",
      "iteration 100 / 1500: loss 1.129901\n",
      "iteration 200 / 1500: loss 0.601056\n",
      "iteration 300 / 1500: loss 0.000000\n",
      "iteration 400 / 1500: loss 0.000000\n",
      "iteration 500 / 1500: loss 0.185331\n",
      "iteration 600 / 1500: loss 0.000000\n",
      "iteration 700 / 1500: loss 0.000000\n",
      "iteration 800 / 1500: loss 0.153051\n",
      "iteration 900 / 1500: loss 0.000000\n",
      "iteration 1000 / 1500: loss 0.000000\n",
      "iteration 1100 / 1500: loss 0.000000\n",
      "iteration 1200 / 1500: loss 0.000000\n",
      "iteration 1300 / 1500: loss 0.000000\n",
      "iteration 1400 / 1500: loss 0.954026\n",
      "iteration 0 / 1500: loss 0.097032\n",
      "iteration 100 / 1500: loss 0.042561\n",
      "iteration 200 / 1500: loss 0.024888\n",
      "iteration 300 / 1500: loss 0.015494\n",
      "iteration 400 / 1500: loss 0.014155\n",
      "iteration 500 / 1500: loss 0.015481\n",
      "iteration 600 / 1500: loss 0.016648\n",
      "iteration 700 / 1500: loss 0.014161\n",
      "iteration 800 / 1500: loss 0.016081\n",
      "iteration 900 / 1500: loss 0.011120\n",
      "iteration 1000 / 1500: loss 0.016949\n",
      "iteration 1100 / 1500: loss 0.012487\n",
      "iteration 1200 / 1500: loss 0.007768\n",
      "iteration 1300 / 1500: loss 0.007388\n",
      "iteration 1400 / 1500: loss 0.013720\n",
      "iteration 0 / 1500: loss 0.151178\n",
      "iteration 100 / 1500: loss 0.035994\n",
      "iteration 200 / 1500: loss 0.020617\n",
      "iteration 300 / 1500: loss 0.013427\n",
      "iteration 400 / 1500: loss 0.012525\n",
      "iteration 500 / 1500: loss 0.014591\n",
      "iteration 600 / 1500: loss 0.013572\n",
      "iteration 700 / 1500: loss 0.011070\n",
      "iteration 800 / 1500: loss 0.011417\n",
      "iteration 900 / 1500: loss 0.007706\n",
      "iteration 1000 / 1500: loss 0.011391\n",
      "iteration 1100 / 1500: loss 0.010367\n",
      "iteration 1200 / 1500: loss 0.010715\n",
      "iteration 1300 / 1500: loss 0.009192\n",
      "iteration 1400 / 1500: loss 0.007911\n",
      "iteration 0 / 1500: loss 0.160835\n",
      "iteration 100 / 1500: loss 0.034542\n",
      "iteration 200 / 1500: loss 0.024968\n",
      "iteration 300 / 1500: loss 0.017903\n",
      "iteration 400 / 1500: loss 0.018294\n",
      "iteration 500 / 1500: loss 0.015206\n",
      "iteration 600 / 1500: loss 0.016347\n",
      "iteration 700 / 1500: loss 0.011902\n",
      "iteration 800 / 1500: loss 0.015728\n",
      "iteration 900 / 1500: loss 0.013015\n",
      "iteration 1000 / 1500: loss 0.009923\n",
      "iteration 1100 / 1500: loss 0.008504\n",
      "iteration 1200 / 1500: loss 0.010330\n",
      "iteration 1300 / 1500: loss 0.008849\n",
      "iteration 1400 / 1500: loss 0.006437\n",
      "iteration 0 / 1500: loss 0.000000\n",
      "iteration 100 / 1500: loss 0.773158\n",
      "iteration 200 / 1500: loss 0.477948\n",
      "iteration 300 / 1500: loss 0.000000\n",
      "iteration 400 / 1500: loss 4.058720\n",
      "iteration 500 / 1500: loss 33.136013\n",
      "iteration 600 / 1500: loss 0.000000\n",
      "iteration 700 / 1500: loss 0.000000\n",
      "iteration 800 / 1500: loss 0.000000\n",
      "iteration 900 / 1500: loss 0.000000\n",
      "iteration 1000 / 1500: loss 74.810189\n",
      "iteration 1100 / 1500: loss 0.000000\n",
      "iteration 1200 / 1500: loss 6.685277\n",
      "iteration 1300 / 1500: loss 13.855338\n",
      "iteration 1400 / 1500: loss 0.000000\n",
      "iteration 0 / 1500: loss 0.101524\n",
      "iteration 100 / 1500: loss 0.135986\n",
      "iteration 200 / 1500: loss 0.269910\n",
      "iteration 300 / 1500: loss 0.661915\n",
      "iteration 400 / 1500: loss 0.126108\n",
      "iteration 500 / 1500: loss 0.164755\n",
      "iteration 600 / 1500: loss 0.055352\n",
      "iteration 700 / 1500: loss 0.164103\n",
      "iteration 800 / 1500: loss 0.896027\n",
      "iteration 900 / 1500: loss 0.163390\n",
      "iteration 1000 / 1500: loss 0.273088\n",
      "iteration 1100 / 1500: loss 0.572479\n",
      "iteration 1200 / 1500: loss 0.106679\n",
      "iteration 1300 / 1500: loss 0.142043\n",
      "iteration 1400 / 1500: loss 0.201619\n",
      "iteration 0 / 1500: loss 0.152963\n",
      "iteration 100 / 1500: loss 0.339845\n",
      "iteration 200 / 1500: loss 0.149713\n",
      "iteration 300 / 1500: loss 0.088723\n",
      "iteration 400 / 1500: loss 0.176606\n",
      "iteration 500 / 1500: loss 0.196806\n",
      "iteration 600 / 1500: loss 0.553521\n",
      "iteration 700 / 1500: loss 0.519962\n",
      "iteration 800 / 1500: loss 0.471619\n",
      "iteration 900 / 1500: loss 0.192837\n",
      "iteration 1000 / 1500: loss 1.406911\n",
      "iteration 1100 / 1500: loss 0.273708\n",
      "iteration 1200 / 1500: loss 0.152997\n",
      "iteration 1300 / 1500: loss 0.121061\n",
      "iteration 1400 / 1500: loss 1.871131\n",
      "iteration 0 / 1500: loss 0.289063\n",
      "iteration 100 / 1500: loss 0.218242\n",
      "iteration 200 / 1500: loss 0.277744\n",
      "iteration 300 / 1500: loss 0.308567\n",
      "iteration 400 / 1500: loss 0.178534\n",
      "iteration 500 / 1500: loss 0.230773\n",
      "iteration 600 / 1500: loss 0.091493\n",
      "iteration 700 / 1500: loss 0.371602\n",
      "iteration 800 / 1500: loss 0.172351\n",
      "iteration 900 / 1500: loss 0.144986\n",
      "iteration 1000 / 1500: loss 1.268536\n",
      "iteration 1100 / 1500: loss 0.092651\n",
      "iteration 1200 / 1500: loss 0.076153\n",
      "iteration 1300 / 1500: loss 0.071579\n",
      "iteration 1400 / 1500: loss 0.556337\n",
      "iteration 0 / 1500: loss 0.000000\n",
      "iteration 100 / 1500: loss 0.000000\n",
      "iteration 200 / 1500: loss 0.000000\n",
      "iteration 300 / 1500: loss 48.217762\n",
      "iteration 400 / 1500: loss 0.000000\n",
      "iteration 500 / 1500: loss 0.000000\n",
      "iteration 600 / 1500: loss 0.000000\n",
      "iteration 700 / 1500: loss 0.000000\n",
      "iteration 800 / 1500: loss 0.000000\n",
      "iteration 900 / 1500: loss 0.000000\n",
      "iteration 1000 / 1500: loss 0.000000\n",
      "iteration 1100 / 1500: loss 89.510205\n",
      "iteration 1200 / 1500: loss 0.000000\n",
      "iteration 1300 / 1500: loss 0.000000\n",
      "iteration 1400 / 1500: loss 0.000000\n",
      "iteration 0 / 1500: loss 0.211833\n",
      "iteration 100 / 1500: loss 0.419653\n",
      "iteration 200 / 1500: loss 0.224951\n",
      "iteration 300 / 1500: loss 0.556511\n",
      "iteration 400 / 1500: loss 0.623338\n",
      "iteration 500 / 1500: loss 0.865126\n",
      "iteration 600 / 1500: loss 0.321464\n",
      "iteration 700 / 1500: loss 0.332995\n",
      "iteration 800 / 1500: loss 0.337286\n",
      "iteration 900 / 1500: loss 0.355322\n",
      "iteration 1000 / 1500: loss 0.480207\n",
      "iteration 1100 / 1500: loss 0.253924\n",
      "iteration 1200 / 1500: loss 0.899307\n",
      "iteration 1300 / 1500: loss 0.594544\n",
      "iteration 1400 / 1500: loss 0.084790\n",
      "iteration 0 / 1500: loss 0.089524\n",
      "iteration 100 / 1500: loss 1.101331\n",
      "iteration 200 / 1500: loss 0.278886\n",
      "iteration 300 / 1500: loss 0.146806\n",
      "iteration 400 / 1500: loss 1.960008\n",
      "iteration 500 / 1500: loss 0.322974\n",
      "iteration 600 / 1500: loss 0.424845\n",
      "iteration 700 / 1500: loss 2.241588\n",
      "iteration 800 / 1500: loss 0.224150\n",
      "iteration 900 / 1500: loss 0.717505\n",
      "iteration 1000 / 1500: loss 0.124008\n",
      "iteration 1100 / 1500: loss 0.386336\n",
      "iteration 1200 / 1500: loss 0.308859\n",
      "iteration 1300 / 1500: loss 0.248990\n",
      "iteration 1400 / 1500: loss 0.237523\n",
      "iteration 0 / 1500: loss 0.160613\n",
      "iteration 100 / 1500: loss 0.299023\n",
      "iteration 200 / 1500: loss 1.689912\n",
      "iteration 300 / 1500: loss 0.787121\n",
      "iteration 400 / 1500: loss 0.408447\n",
      "iteration 500 / 1500: loss 0.227969\n",
      "iteration 600 / 1500: loss 0.531890\n",
      "iteration 700 / 1500: loss 0.557594\n",
      "iteration 800 / 1500: loss 0.276781\n",
      "iteration 900 / 1500: loss 0.324733\n",
      "iteration 1000 / 1500: loss 0.351703\n",
      "iteration 1100 / 1500: loss 0.167772\n",
      "iteration 1200 / 1500: loss 0.727223\n",
      "iteration 1300 / 1500: loss 0.306437\n",
      "iteration 1400 / 1500: loss 0.202360\n",
      "lr 1.000000e-07 batch_size 1.000000e+00 train accuracy: 0.757800 val accuracy: 0.754000\n",
      "lr 1.000000e-07 batch_size 1.000000e+02 train accuracy: 0.767300 val accuracy: 0.740000\n",
      "lr 1.000000e-07 batch_size 2.000000e+02 train accuracy: 0.758300 val accuracy: 0.745000\n",
      "lr 1.000000e-07 batch_size 5.000000e+02 train accuracy: 0.769600 val accuracy: 0.773000\n",
      "lr 5.000000e-06 batch_size 1.000000e+00 train accuracy: 0.718500 val accuracy: 0.730000\n",
      "lr 5.000000e-06 batch_size 1.000000e+02 train accuracy: 0.736500 val accuracy: 0.735000\n",
      "lr 5.000000e-06 batch_size 2.000000e+02 train accuracy: 0.800700 val accuracy: 0.812000\n",
      "lr 5.000000e-06 batch_size 5.000000e+02 train accuracy: 0.809500 val accuracy: 0.811000\n",
      "lr 1.000000e-05 batch_size 1.000000e+00 train accuracy: 0.766700 val accuracy: 0.790000\n",
      "lr 1.000000e-05 batch_size 1.000000e+02 train accuracy: 0.667000 val accuracy: 0.656000\n",
      "lr 1.000000e-05 batch_size 2.000000e+02 train accuracy: 0.804000 val accuracy: 0.806000\n",
      "lr 1.000000e-05 batch_size 5.000000e+02 train accuracy: 0.776000 val accuracy: 0.785000\n",
      "best validation accuracy achieved during cross-validation: 0.812000\n",
      "linear perceptron on raw pixels final test set accuracy: 0.801000\n"
     ]
    }
   ],
   "source": [
    "# You are encouraged to experiment with additional values\n",
    "learning_rates = [1e-7, 5e-6, 1e-5]\n",
    "batch_sizes = [1, 100, 200, 500]\n",
    "\n",
    "results = {}\n",
    "best_val = -1   # The highest validation accuracy that we have seen so far.\n",
    "best_perceptron = None # The LinearPerceptron object that achieved the highest validation rate.\n",
    "\n",
    "################################################################################\n",
    "#                            START OF YOUR CODE                                #\n",
    "################################################################################\n",
    "\n",
    "for lr in learning_rates:\n",
    "    for bs in batch_sizes:\n",
    "        perceptron = LinearPerceptron(X_train, y_train)\n",
    "        loss = perceptron.train(X_train, y_train, learning_rate=lr, num_iters=1500, batch_size=bs ,verbose=True)\n",
    "        training_accuracy = perceptron.calc_accuracy(X_train, y_train)\n",
    "        validation_accuracy = perceptron.calc_accuracy(X_val, y_val)\n",
    "        results[(lr, bs)] = (training_accuracy, validation_accuracy)\n",
    "        if validation_accuracy > best_val:\n",
    "            best_val = validation_accuracy\n",
    "            best_perceptron = perceptron\n",
    "\n",
    "\n",
    "\n",
    "\n",
    "################################################################################\n",
    "#                              END OF YOUR CODE                                #\n",
    "################################################################################\n",
    "    \n",
    "# Print out results.\n",
    "for lr, batch_size in sorted(results):\n",
    "    train_accuracy, val_accuracy = results[(lr, batch_size)]\n",
    "    print ('lr %e batch_size %e train accuracy: %f val accuracy: %f' % (\n",
    "                lr, batch_size, train_accuracy, val_accuracy))\n",
    "    \n",
    "print ('best validation accuracy achieved during cross-validation: %f' % best_val)\n",
    "\n",
    "test_accuracy = best_perceptron.calc_accuracy(X_test, y_test)\n",
    "print ('linear perceptron on raw pixels final test set accuracy: %f' % test_accuracy)"
   ]
  },
  {
   "cell_type": "markdown",
   "metadata": {
    "id": "upoW3pQ1ET8Q"
   },
   "source": [
    "## Logistic regression\n",
    "\n",
    "Another choice for a binary classifier is the binary logistic regression classifier. Unlike the perceptron which treats the outputs as uncalibrated and possibly difficult to interpret scores for each class, the binary logistic regression classifier gives a slightly more intuitive output in the form of normalized class probabilities. In this classifier, the function mapping $f(x_i; W, b) = W\\cdot x_i + b$ stays unchanged but we now interpret these scores as the unnormalized log probabilities for each class and replace the perceptron loss with a cross-entropy loss. In this exercise, we will define our binary logistic regression classifier to have one input.       \n",
    "\n",
    "Read the next code cell. The constructor of the `LogisticRegression` class takes as input the dataset and labels in order to create appropriate parameters. Notice we are using the bias trick and only use the matrix `w` for convenience. Since we already have a (random) model, we can start predicting classes on images. Complete the method `predict` in the `LogisticRegression` class - remember you need to implement the sigmoid function before you can obtain predictions using your classifier. **(10 Points)**\n",
    "\n",
    "**Important note**: values passed to the `sigmoid` function can be arbitrarily large or small. When we take the exponent of such values, we might encounter extreme values that might *overflow*. This is known as numerical instability and you should always take care when you use exponent in your functions. "
   ]
  },
  {
   "cell_type": "code",
   "execution_count": 22,
   "metadata": {
    "id": "Y9cU2sJ_X96d",
    "ExecuteTime": {
     "end_time": "2024-01-10T16:51:50.789181600Z",
     "start_time": "2024-01-10T16:51:50.779833900Z"
    }
   },
   "outputs": [],
   "source": [
    "def sigmoid(x):\n",
    "    \"\"\"\n",
    "    Numerically stable Sigmoid function.\n",
    "\n",
    "    Input: any unnormalized log probabilities vector\n",
    "    Output: normalized probabilities\n",
    "    \"\"\"\n",
    "    #############################################################################\n",
    "    # Implement the function                                                    #\n",
    "    #############################################################################\n",
    "\n",
    "    return 1/(1 + np.exp(-x))\n",
    "    \n",
    "    \n",
    "    #############################################################################\n",
    "    #                             END OF YOUR CODE                              #\n",
    "    #############################################################################"
   ]
  },
  {
   "cell_type": "code",
   "execution_count": 23,
   "metadata": {
    "id": "oGClf3GJLlBp",
    "ExecuteTime": {
     "end_time": "2024-01-10T16:52:37.924654300Z",
     "start_time": "2024-01-10T16:52:37.915962300Z"
    }
   },
   "outputs": [],
   "source": [
    "class LogisticRegression(LinearClassifier):\n",
    "    # Classifer that uses sigmoid and binary cross entropy loss\n",
    "    def __init__(self, X, y):\n",
    "        self.W = None\n",
    "        ###########################################################################\n",
    "        # Initiate the parameters of your model.                                  #\n",
    "        ###########################################################################\n",
    "        super().__init__(X,y)\n",
    "        self.W = np.random.randn(X.shape[1],1)*0.0001\n",
    "        \n",
    "        ###########################################################################\n",
    "        #                           END OF YOUR CODE                              #\n",
    "        ###########################################################################\n",
    "\n",
    "\n",
    "    def predict(self, X):\n",
    "        y_pred = None\n",
    "        ###########################################################################\n",
    "        # Implement this method.                                                  #\n",
    "        ###########################################################################\n",
    "        z = np.dot(X, self.W)\n",
    "        sig_z = sigmoid(z)\n",
    "        y_pred = np.where(sig_z >= 0.5, 1, 0)\n",
    "        y_pred = y_pred.reshape(-1)     \n",
    "        ###########################################################################\n",
    "        #                           END OF YOUR CODE                              #\n",
    "        ###########################################################################\n",
    "        return y_pred\n",
    "\n",
    "\n",
    "    def loss(self, X_batch, y_batch):\n",
    "        # will be implemented later\n",
    "        return binary_cross_entropy(self.W, X_batch, y_batch)"
   ]
  },
  {
   "cell_type": "code",
   "execution_count": 24,
   "metadata": {
    "id": "BRrb-mb5ET8Q",
    "ExecuteTime": {
     "end_time": "2024-01-10T16:52:40.185573300Z",
     "start_time": "2024-01-10T16:52:40.168318500Z"
    }
   },
   "outputs": [],
   "source": [
    "logistic = LogisticRegression(X_train, y_train)\n",
    "y_pred = logistic.predict(X_test)"
   ]
  },
  {
   "cell_type": "code",
   "execution_count": 25,
   "metadata": {
    "colab": {
     "base_uri": "https://localhost:8080/",
     "height": 151
    },
    "id": "jUb2tkIMET8Q",
    "outputId": "291f15f3-2027-4203-e341-932763106cdb",
    "ExecuteTime": {
     "end_time": "2024-01-10T16:52:46.089612300Z",
     "start_time": "2024-01-10T16:52:45.964973200Z"
    }
   },
   "outputs": [
    {
     "name": "stdout",
     "output_type": "stream",
     "text": [
      "    plane\t      car\t      car\t      car\n"
     ]
    },
    {
     "data": {
      "text/plain": "<Figure size 500x300 with 1 Axes>",
      "image/png": "[encoded data removed]"
     },
     "metadata": {},
     "output_type": "display_data"
    }
   ],
   "source": [
    "X_batch, y_batch = get_batch(X_train, y_train, 4)\n",
    "plt.imshow(make_random_grid(X_batch, y_batch));"
   ]
  },
  {
   "cell_type": "code",
   "execution_count": 26,
   "metadata": {
    "colab": {
     "base_uri": "https://localhost:8080/"
    },
    "id": "1I5T0LiBET8Q",
    "outputId": "c2163b3f-210c-4960-9800-4ab2d54fd9a0",
    "ExecuteTime": {
     "end_time": "2024-01-10T16:52:48.605000600Z",
     "start_time": "2024-01-10T16:52:48.524623700Z"
    }
   },
   "outputs": [
    {
     "name": "stdout",
     "output_type": "stream",
     "text": [
      "          car           car           car           car\n"
     ]
    }
   ],
   "source": [
    "# predictions\n",
    "print(' '.join('%13s' % classes[y_pred[j]] for j in range(4)))"
   ]
  },
  {
   "cell_type": "code",
   "execution_count": 27,
   "metadata": {
    "colab": {
     "base_uri": "https://localhost:8080/"
    },
    "id": "29GDDyzIET8Q",
    "outputId": "22eea029-a2b6-441d-dee6-b1819eda9b27",
    "ExecuteTime": {
     "end_time": "2024-01-10T16:52:50.309884900Z",
     "start_time": "2024-01-10T16:52:50.272575900Z"
    }
   },
   "outputs": [
    {
     "name": "stdout",
     "output_type": "stream",
     "text": [
      "model accuracy:  0.4584\n"
     ]
    }
   ],
   "source": [
    "print(\"model accuracy: \", logistic.calc_accuracy(X_train, y_train))"
   ]
  },
  {
   "cell_type": "markdown",
   "metadata": {
    "id": "Vpy2WTyGET8Q"
   },
   "source": [
    "## Binary cross-entropy\n",
    "\n",
    "Your code for this section will written in the next cell. \n",
    "\n",
    "Complete the function `binary_cross_entropy` using vectorized code. This function takes as input the weights, data, labels and outputs the calculated loss as a single number and the gradients with respect to W. (**20 points**)"
   ]
  },
  {
   "cell_type": "code",
   "execution_count": 28,
   "metadata": {
    "id": "pfjEDW6n3mRu",
    "ExecuteTime": {
     "end_time": "2024-01-10T16:53:24.092123100Z",
     "start_time": "2024-01-10T16:53:24.079225Z"
    }
   },
   "outputs": [],
   "source": [
    "def binary_cross_entropy(W, X, y):\n",
    "    \"\"\"\n",
    "    Structured BCE loss function. Implement this function using vectorized code.\n",
    "    Inputs:\n",
    "    - W: array of weights\n",
    "    - X: array of data\n",
    "    - y: 1-dimensional array of length N with binary labels (0,1). \n",
    "    Returns:\n",
    "    a tuple of:\n",
    "    - loss as single float\n",
    "    - gradient with respect to weights W; an array of same shape as W\n",
    "    \"\"\"\n",
    "    loss = 0.0\n",
    "    dW = np.zeros(W.shape) # initialize the gradient as zero\n",
    "    #############################################################################\n",
    "    # Implement the function and store result in loss and the gradint in dW     #\n",
    "    # Note: in class you defined BCE that takes values from the range (-1,1).   #\n",
    "    # and the sigmoid function generally outputs values in the range (0,1).     #\n",
    "    # Make the proper adjustments for your code to work.                        #\n",
    "    #############################################################################\n",
    "    num_samples, num_features = X.shape\n",
    "    z = np.dot(X, W)\n",
    "    sig_z = sigmoid(z)\n",
    "    y_label = y\n",
    "    y_label = np.where(y_label == 0, -1, 1)\n",
    "    # y\\in {0,1} , y_label \\in {-1,1}\n",
    "    loss =  np.sum(-np.log(1) + np.log(1 + np.exp(-np.multiply(y_label.reshape(-1,1), z))))\n",
    "    dW = np.dot(X.T, sig_z - y.reshape(-1,1)) \n",
    "    \n",
    "    loss /= num_samples\n",
    "    dW /= num_samples\n",
    "    #############################################################################\n",
    "    #                             END OF YOUR CODE                              #\n",
    "    #############################################################################\n",
    "    return loss, dW"
   ]
  },
  {
   "cell_type": "code",
   "execution_count": 29,
   "metadata": {
    "id": "EvLw8x4oET8Q",
    "ExecuteTime": {
     "end_time": "2024-01-10T16:53:31.764516500Z",
     "start_time": "2024-01-10T16:53:31.747410Z"
    }
   },
   "outputs": [],
   "source": [
    "W = np.random.randn(3073, 1) * 0.0001"
   ]
  },
  {
   "cell_type": "code",
   "execution_count": 30,
   "metadata": {
    "colab": {
     "base_uri": "https://localhost:8080/"
    },
    "id": "1VKKB4y8ET8Q",
    "outputId": "69441e31-0264-4ef0-bd70-dfbaf258da76",
    "ExecuteTime": {
     "end_time": "2024-01-10T16:53:33.672714900Z",
     "start_time": "2024-01-10T16:53:33.653817800Z"
    }
   },
   "outputs": [
    {
     "name": "stdout",
     "output_type": "stream",
     "text": [
      "[0 1 1 0 0 0 1 0 0 1 0 1 1 0 0 0 1 1 0 1 0 1 0 1 1 0 0 1 0 0 0 0 0 1 1 1 0\n",
      " 0 1 0 0 1 1 0 1 0 0 0 1 0 0 0 0 1 0 1 0 1 0 0 1 1 0 0 1 1 0 1 0 0 1 1 1 0\n",
      " 0 0 1 0 0 1 1 0 0 0 0 1 1 0 1 0 0 0 1 0 1 1 0 0 1 0 0 0 0 0 0 1 1 0 1 0 0\n",
      " 1 0 1 1 1 1 0 0 1 1 1 1 0 1 0 1 0 0 1 1 1 1 0 1 1 0 1 0 1 0 0 1 0 0 1 1 0\n",
      " 0 1 1 0 1 0 0 0 0 1 0 1 1 0 0 0 1 0 1 1 1 0 0 1 0 0 0 1 0 0 1 1 0 1 1 1 1\n",
      " 0 1 0 1 0 1 1 0 1 1 0 1 1 0 1 1 0 0 0 0 0 1 1 0 1 1 0 0 0 0 0 0 0 1 0 0 1\n",
      " 1 1 0 1 1 0 1 1 0 0 1 1 1 0 1 1 0 0 1 1 0 0 1 0 1 1 1 1 0 1 0 1 1 0 1 1 0\n",
      " 1 1 0 1 0 0 0 1 1 1 0 1 1 0 1 1 1 1 0 1 1 1 0 1 1 1 1 0 1 1 0 1 0 1 1 0 0\n",
      " 1 1 1 0 1 1 1 1 1 0 1 1 1 0 1 0 1 0 0 0 1 1 0 1 1 0 1 1 1 0 0 0 0 1 1 0 0\n",
      " 0 1 1 0 0 1 0 0 0 0 0 0 0 1 1 0 1 0 1 0 1 1 0 1 0 1 0 0 1 1 1 1 0 0 1 0 1\n",
      " 0 0 0 1 1 0 0 0 1 1 0 1 1 0 1 0 1 0 0 0 1 1 0 1 1 1 1 0 0 1 1 0 1 0 0 1 0\n",
      " 1 0 0 1 0 0 1 0 1 0 0 1 0 0 0 1 0 0 1 0 1 0 1 1 0 0 0 1 0 1 1 0 1 0 0 0 1\n",
      " 0 1 0 1 0 1 1 0 0 1 0 0 1 0 1 0 0 1 1 1 1 0 1 0 0 0 1 0 0 1 1 1 0 0 0 0 0\n",
      " 1 1 1 1 0 1 0 0 0 1 1 0 1 0 1 1 0 0 1 1 0 0 0 0 0 0 1 0 1 0 1 1 0 0 1 1 1\n",
      " 1 1 1 0 0 0 0 0 0 0 1 0 1 0 1 0 0 0 1 1 0 1 1 1 1 0 0 1 0 0 0 1 1 1 0 0 1\n",
      " 1 0 1 1 1 0 0 0 1 0 1 0 1 1 1 1 1 1 1 0 0 0 0 0 0 0 0 0 1 1 0 1 0 1 1 0 1\n",
      " 1 1 1 1 0 0 1 0 1 1 0 1 1 1 0 1 0 0 0 1 0 0 0 1 1 0 1 1 1 1 0 1 0 1 0 1 0\n",
      " 0 0 0 0 1 0 1 1 0 0 0 1 1 0 1 1 0 0 0 0 0 0 0 1 0 1 1 1 1 1 1 1 1 0 0 1 0\n",
      " 1 0 0 0 0 0 0 0 1 1 0 1 0 0 1 1 0 0 0 0 0 1 0 1 1 1 1 0 1 0 1 0 0 1 1 1 1\n",
      " 0 1 1 0 0 0 1 1 1 0 1 0 1 1 1 1 0 0 0 1 1 0 1 0 0 1 1 1 1 1 1 0 1 0 0 1 1\n",
      " 0 1 1 0 0 1 1 0 0 0 1 1 1 0 0 1 1 0 1 1 1 0 1 0 1 1 1 0 1 1 0 1 1 0 1 0 0\n",
      " 1 1 1 0 0 1 1 1 0 1 0 0 0 1 0 1 0 1 1 0 0 0 0 0 0 0 1 1 1 1 1 1 0 0 1 1 0\n",
      " 1 0 0 0 0 1 0 0 1 0 1 1 1 1 0 0 0 0 0 1 1 1 1 0 0 1 1 1 1 0 1 1 0 0 0 0 0\n",
      " 1 1 1 1 0 1 0 1 0 0 0 0 1 1 0 0 1 1 0 1 0 0 0 1 1 0 1 1 1 1 0 0 0 0 0 1 0\n",
      " 0 1 1 1 0 0 1 0 0 1 0 1 1 1 0 1 0 0 1 0 0 1 1 1 0 1 1 1 1 0 1 1 1 0 0 0 1\n",
      " 0 1 0 1 1 0 1 1 0 1 1 0 1 0 1 0 1 0 0 1 0 1 0 1 0 0 1 0 1 1 0 1 1 1 1 0 1\n",
      " 0 1 0 1 0 1 1 1 1 0 0 1 1 0 1 1 0 0 1 1 0 1 0 1 1 1 1 1 0 1 1 0 1 0 1 0 0\n",
      " 0]\n",
      "[-1  1  1 -1 -1 -1  1 -1 -1  1 -1  1  1 -1 -1 -1  1  1 -1  1 -1  1 -1  1\n",
      "  1 -1 -1  1 -1 -1 -1 -1 -1  1  1  1 -1 -1  1 -1 -1  1  1 -1  1 -1 -1 -1\n",
      "  1 -1 -1 -1 -1  1 -1  1 -1  1 -1 -1  1  1 -1 -1  1  1 -1  1 -1 -1  1  1\n",
      "  1 -1 -1 -1  1 -1 -1  1  1 -1 -1 -1 -1  1  1 -1  1 -1 -1 -1  1 -1  1  1\n",
      " -1 -1  1 -1 -1 -1 -1 -1 -1  1  1 -1  1 -1 -1  1 -1  1  1  1  1 -1 -1  1\n",
      "  1  1  1 -1  1 -1  1 -1 -1  1  1  1  1 -1  1  1 -1  1 -1  1 -1 -1  1 -1\n",
      " -1  1  1 -1 -1  1  1 -1  1 -1 -1 -1 -1  1 -1  1  1 -1 -1 -1  1 -1  1  1\n",
      "  1 -1 -1  1 -1 -1 -1  1 -1 -1  1  1 -1  1  1  1  1 -1  1 -1  1 -1  1  1\n",
      " -1  1  1 -1  1  1 -1  1  1 -1 -1 -1 -1 -1  1  1 -1  1  1 -1 -1 -1 -1 -1\n",
      " -1 -1  1 -1 -1  1  1  1 -1  1  1 -1  1  1 -1 -1  1  1  1 -1  1  1 -1 -1\n",
      "  1  1 -1 -1  1 -1  1  1  1  1 -1  1 -1  1  1 -1  1  1 -1  1  1 -1  1 -1\n",
      " -1 -1  1  1  1 -1  1  1 -1  1  1  1  1 -1  1  1  1 -1  1  1  1  1 -1  1\n",
      "  1 -1  1 -1  1  1 -1 -1  1  1  1 -1  1  1  1  1  1 -1  1  1  1 -1  1 -1\n",
      "  1 -1 -1 -1  1  1 -1  1  1 -1  1  1  1 -1 -1 -1 -1  1  1 -1 -1 -1  1  1\n",
      " -1 -1  1 -1 -1 -1 -1 -1 -1 -1  1  1 -1  1 -1  1 -1  1  1 -1  1 -1  1 -1\n",
      " -1  1  1  1  1 -1 -1  1 -1  1 -1 -1 -1  1  1 -1 -1 -1  1  1 -1  1  1 -1\n",
      "  1 -1  1 -1 -1 -1  1  1 -1  1  1  1  1 -1 -1  1  1 -1  1 -1 -1  1 -1  1\n",
      " -1 -1  1 -1 -1  1 -1  1 -1 -1  1 -1 -1 -1  1 -1 -1  1 -1  1 -1  1  1 -1\n",
      " -1 -1  1 -1  1  1 -1  1 -1 -1 -1  1 -1  1 -1  1 -1  1  1 -1 -1  1 -1 -1\n",
      "  1 -1  1 -1 -1  1  1  1  1 -1  1 -1 -1 -1  1 -1 -1  1  1  1 -1 -1 -1 -1\n",
      " -1  1  1  1  1 -1  1 -1 -1 -1  1  1 -1  1 -1  1  1 -1 -1  1  1 -1 -1 -1\n",
      " -1 -1 -1  1 -1  1 -1  1  1 -1 -1  1  1  1  1  1  1 -1 -1 -1 -1 -1 -1 -1\n",
      "  1 -1  1 -1  1 -1 -1 -1  1  1 -1  1  1  1  1 -1 -1  1 -1 -1 -1  1  1  1\n",
      " -1 -1  1  1 -1  1  1  1 -1 -1 -1  1 -1  1 -1  1  1  1  1  1  1  1 -1 -1\n",
      " -1 -1 -1 -1 -1 -1 -1  1  1 -1  1 -1  1  1 -1  1  1  1  1  1 -1 -1  1 -1\n",
      "  1  1 -1  1  1  1 -1  1 -1 -1 -1  1 -1 -1 -1  1  1 -1  1  1  1  1 -1  1\n",
      " -1  1 -1  1 -1 -1 -1 -1 -1  1 -1  1  1 -1 -1 -1  1  1 -1  1  1 -1 -1 -1\n",
      " -1 -1 -1 -1  1 -1  1  1  1  1  1  1  1  1 -1 -1  1 -1  1 -1 -1 -1 -1 -1\n",
      " -1 -1  1  1 -1  1 -1 -1  1  1 -1 -1 -1 -1 -1  1 -1  1  1  1  1 -1  1 -1\n",
      "  1 -1 -1  1  1  1  1 -1  1  1 -1 -1 -1  1  1  1 -1  1 -1  1  1  1  1 -1\n",
      " -1 -1  1  1 -1  1 -1 -1  1  1  1  1  1  1 -1  1 -1 -1  1  1 -1  1  1 -1\n",
      " -1  1  1 -1 -1 -1  1  1  1 -1 -1  1  1 -1  1  1  1 -1  1 -1  1  1  1 -1\n",
      "  1  1 -1  1  1 -1  1 -1 -1  1  1  1 -1 -1  1  1  1 -1  1 -1 -1 -1  1 -1\n",
      "  1 -1  1  1 -1 -1 -1 -1 -1 -1 -1  1  1  1  1  1  1 -1 -1  1  1 -1  1 -1\n",
      " -1 -1 -1  1 -1 -1  1 -1  1  1  1  1 -1 -1 -1 -1 -1  1  1  1  1 -1 -1  1\n",
      "  1  1  1 -1  1  1 -1 -1 -1 -1 -1  1  1  1  1 -1  1 -1  1 -1 -1 -1 -1  1\n",
      "  1 -1 -1  1  1 -1  1 -1 -1 -1  1  1 -1  1  1  1  1 -1 -1 -1 -1 -1  1 -1\n",
      " -1  1  1  1 -1 -1  1 -1 -1  1 -1  1  1  1 -1  1 -1 -1  1 -1 -1  1  1  1\n",
      " -1  1  1  1  1 -1  1  1  1 -1 -1 -1  1 -1  1 -1  1  1 -1  1  1 -1  1  1\n",
      " -1  1 -1  1 -1  1 -1 -1  1 -1  1 -1  1 -1 -1  1 -1  1  1 -1  1  1  1  1\n",
      " -1  1 -1  1 -1  1 -1  1  1  1  1 -1 -1  1  1 -1  1  1 -1 -1  1  1 -1  1\n",
      " -1  1  1  1  1  1 -1  1  1 -1  1 -1  1 -1 -1 -1]\n",
      "loss: 0.794995\n",
      "CPU times: total: 0 ns\n",
      "Wall time: 7.51 ms\n"
     ]
    }
   ],
   "source": [
    "%%time\n",
    "loss_naive, grad_naive = binary_cross_entropy(W, X_val, y_val)\n",
    "print ('loss: %f' % (loss_naive, ))"
   ]
  },
  {
   "cell_type": "markdown",
   "metadata": {
    "id": "IawKSQqf8vSq"
   },
   "source": [
    "You are provided with a gradient test in the next cells:"
   ]
  },
  {
   "cell_type": "code",
   "execution_count": 31,
   "metadata": {
    "id": "nms4Rd7O8s2l",
    "ExecuteTime": {
     "end_time": "2024-01-09T19:06:54.607366400Z",
     "start_time": "2024-01-09T19:06:54.561662600Z"
    }
   },
   "outputs": [],
   "source": [
    "def grad_check(f, x, analytic_grad, num_checks=10, h=1e-5):\n",
    "    for i in range(num_checks):\n",
    "        ix = tuple([randrange(m) for m in x.shape])\n",
    "\n",
    "        oldval = x[ix]\n",
    "        x[ix] = oldval + h # increment by h\n",
    "        fxph = f(x) # evaluate f(x + h)\n",
    "        x[ix] = oldval - h # increment by h\n",
    "        fxmh = f(x) # evaluate f(x - h)\n",
    "        x[ix] = oldval # reset\n",
    "\n",
    "        grad_numerical = (fxph - fxmh) / (2 * h)\n",
    "        grad_analytic = analytic_grad[ix]\n",
    "        rel_error = abs(grad_numerical - grad_analytic) / (abs(grad_numerical) + abs(grad_analytic))\n",
    "        print ('numerical: %f analytic: %f, relative error: %e' % (grad_numerical, grad_analytic, rel_error))"
   ]
  },
  {
   "cell_type": "code",
   "execution_count": 32,
   "metadata": {
    "colab": {
     "base_uri": "https://localhost:8080/"
    },
    "id": "i0OWqVCzET8R",
    "outputId": "208134b9-db41-46bf-b8ee-73077bb65d03",
    "ExecuteTime": {
     "end_time": "2024-01-09T19:07:03.254400500Z",
     "start_time": "2024-01-09T19:07:03.147001500Z"
    }
   },
   "outputs": [
    {
     "name": "stdout",
     "output_type": "stream",
     "text": [
      "numerical: 1.576184 analytic: 1.576184, relative error: 5.993480e-08\n",
      "numerical: 6.198751 analytic: 6.198751, relative error: 2.289565e-09\n",
      "numerical: 7.965631 analytic: 7.965631, relative error: 4.944316e-09\n",
      "numerical: 9.072025 analytic: 9.072025, relative error: 7.681684e-09\n",
      "numerical: 2.068336 analytic: 2.068336, relative error: 1.371969e-08\n",
      "numerical: 10.736174 analytic: 10.736174, relative error: 3.945530e-09\n",
      "numerical: 0.545225 analytic: 0.545225, relative error: 2.001375e-07\n",
      "numerical: 5.941219 analytic: 5.941219, relative error: 8.165463e-10\n",
      "numerical: 12.237235 analytic: 12.237235, relative error: 4.178511e-09\n",
      "numerical: 3.793613 analytic: 3.793613, relative error: 1.746732e-08\n"
     ]
    }
   ],
   "source": [
    "loss, grad = binary_cross_entropy(W, X_val, y_val)\n",
    "f = lambda w: binary_cross_entropy(w, X_val, y_val)[0]\n",
    "grad_numerical = grad_check(f, W, grad)"
   ]
  },
  {
   "cell_type": "markdown",
   "metadata": {
    "id": "r-qL6Ti_ET8R"
   },
   "source": [
    "If implemented correctly, the training procedure you already implemented should work."
   ]
  },
  {
   "cell_type": "code",
   "execution_count": 33,
   "metadata": {
    "colab": {
     "base_uri": "https://localhost:8080/"
    },
    "id": "RlW4q5xjET8R",
    "outputId": "4e639294-486c-40b8-cad1-8f49116b0509",
    "ExecuteTime": {
     "end_time": "2024-01-09T19:07:14.912219300Z",
     "start_time": "2024-01-09T19:07:07.613996600Z"
    }
   },
   "outputs": [
    {
     "name": "stdout",
     "output_type": "stream",
     "text": [
      "iteration 0 / 1500: loss 0.781528\n",
      "iteration 100 / 1500: loss 0.441774\n",
      "iteration 200 / 1500: loss 0.401200\n",
      "iteration 300 / 1500: loss 0.443723\n",
      "iteration 400 / 1500: loss 0.454757\n",
      "iteration 500 / 1500: loss 0.416339\n",
      "iteration 600 / 1500: loss 0.431459\n",
      "iteration 700 / 1500: loss 0.445269\n",
      "iteration 800 / 1500: loss 0.407375\n",
      "iteration 900 / 1500: loss 0.433825\n",
      "iteration 1000 / 1500: loss 0.387590\n",
      "iteration 1100 / 1500: loss 0.419252\n",
      "iteration 1200 / 1500: loss 0.388211\n",
      "iteration 1300 / 1500: loss 0.406391\n",
      "iteration 1400 / 1500: loss 0.449460\n",
      "CPU times: total: 1.94 s\n",
      "Wall time: 7.29 s\n"
     ]
    }
   ],
   "source": [
    "%%time\n",
    "logistic = LogisticRegression(X_train, y_train)\n",
    "loss_history = logistic.train(X_train, y_train, \n",
    "                         learning_rate=1e-7,\n",
    "                         num_iters=1500,\n",
    "                         verbose=True)"
   ]
  },
  {
   "cell_type": "code",
   "execution_count": 34,
   "metadata": {
    "colab": {
     "base_uri": "https://localhost:8080/",
     "height": 279
    },
    "id": "v_6Pf6lYET8R",
    "outputId": "f7d461cd-8211-4eeb-fe63-ae5e75ee18f2",
    "scrolled": true,
    "ExecuteTime": {
     "end_time": "2024-01-09T19:07:51.221903500Z",
     "start_time": "2024-01-09T19:07:51.022276200Z"
    }
   },
   "outputs": [
    {
     "data": {
      "text/plain": "<Figure size 500x300 with 1 Axes>",
      "image/png": "[encoded data removed]"
     },
     "metadata": {},
     "output_type": "display_data"
    }
   ],
   "source": [
    "plt.plot(loss_history)\n",
    "plt.xlabel('Iteration number')\n",
    "plt.ylabel('Loss value')\n",
    "plt.show()"
   ]
  },
  {
   "cell_type": "code",
   "execution_count": 35,
   "metadata": {
    "colab": {
     "base_uri": "https://localhost:8080/"
    },
    "id": "4S2RkwT3ET8R",
    "outputId": "d1e1232a-da7b-4b80-a7e4-18a21923d94b",
    "ExecuteTime": {
     "end_time": "2024-01-09T19:08:10.252221600Z",
     "start_time": "2024-01-09T19:08:10.208909700Z"
    }
   },
   "outputs": [
    {
     "name": "stdout",
     "output_type": "stream",
     "text": [
      "Training accuracy:  0.8091\n",
      "Testing accuracy:  0.83\n"
     ]
    }
   ],
   "source": [
    "print(\"Training accuracy: \", logistic.calc_accuracy(X_train, y_train))\n",
    "print(\"Testing accuracy: \", logistic.calc_accuracy(X_test, y_test))"
   ]
  },
  {
   "cell_type": "markdown",
   "metadata": {
    "id": "G-1hg3RWET8R"
   },
   "source": [
    "## Hyperparameter optimization\n",
    "\n",
    "Your model should have improved from 50% accuracy to ~75% accuracy in a matter of seconds. Now, use the validation set to tune hyperparameters by training different models (using the training dataset) and evaluating the performance using the validation dataset. Save the results in a dictionary mapping tuples of the form `(learning_rate, batch_size)` to tuples of the form `(training_accuracy, validation_accuracy)`. Finally, you should evaluate the best model on the testing dataset. \n",
    "\n",
    "Use a small value for the number of iterations as you develop your code. Once you are confident that everything works, run it again for more iterations. **(5 points)**"
   ]
  },
  {
   "cell_type": "code",
   "execution_count": 36,
   "metadata": {
    "colab": {
     "base_uri": "https://localhost:8080/"
    },
    "id": "sxXvTbhJET8R",
    "outputId": "6acf3087-3461-4715-92c9-0fc4029f6c2f",
    "ExecuteTime": {
     "end_time": "2024-01-09T19:09:39.152264800Z",
     "start_time": "2024-01-09T19:08:13.458736500Z"
    }
   },
   "outputs": [
    {
     "name": "stdout",
     "output_type": "stream",
     "text": [
      "iteration 0 / 1500: loss 0.388633\n",
      "iteration 100 / 1500: loss 1.585356\n",
      "iteration 200 / 1500: loss 0.313460\n",
      "iteration 300 / 1500: loss 0.742311\n",
      "iteration 400 / 1500: loss 0.217225\n",
      "iteration 500 / 1500: loss 0.019139\n",
      "iteration 600 / 1500: loss 0.060331\n",
      "iteration 700 / 1500: loss 0.200607\n",
      "iteration 800 / 1500: loss 0.372980\n",
      "iteration 900 / 1500: loss 0.612605\n",
      "iteration 1000 / 1500: loss 0.733316\n",
      "iteration 1100 / 1500: loss 0.587766\n",
      "iteration 1200 / 1500: loss 0.037287\n",
      "iteration 1300 / 1500: loss 0.420651\n",
      "iteration 1400 / 1500: loss 0.345971\n",
      "iteration 0 / 1500: loss 0.674952\n",
      "iteration 100 / 1500: loss 0.516204\n",
      "iteration 200 / 1500: loss 0.464259\n",
      "iteration 300 / 1500: loss 0.438819\n",
      "iteration 400 / 1500: loss 0.383405\n",
      "iteration 500 / 1500: loss 0.388976\n",
      "iteration 600 / 1500: loss 0.471205\n",
      "iteration 700 / 1500: loss 0.497461\n",
      "iteration 800 / 1500: loss 0.428662\n",
      "iteration 900 / 1500: loss 0.435962\n",
      "iteration 1000 / 1500: loss 0.467613\n",
      "iteration 1100 / 1500: loss 0.418261\n",
      "iteration 1200 / 1500: loss 0.333775\n",
      "iteration 1300 / 1500: loss 0.381361\n",
      "iteration 1400 / 1500: loss 0.478968\n",
      "iteration 0 / 1500: loss 0.785991\n",
      "iteration 100 / 1500: loss 0.544200\n",
      "iteration 200 / 1500: loss 0.430795\n",
      "iteration 300 / 1500: loss 0.434148\n",
      "iteration 400 / 1500: loss 0.414205\n",
      "iteration 500 / 1500: loss 0.381417\n",
      "iteration 600 / 1500: loss 0.425904\n",
      "iteration 700 / 1500: loss 0.445805\n",
      "iteration 800 / 1500: loss 0.452113\n",
      "iteration 900 / 1500: loss 0.423167\n",
      "iteration 1000 / 1500: loss 0.459671\n",
      "iteration 1100 / 1500: loss 0.451157\n",
      "iteration 1200 / 1500: loss 0.393790\n",
      "iteration 1300 / 1500: loss 0.434714\n",
      "iteration 1400 / 1500: loss 0.439800\n",
      "iteration 0 / 1500: loss 0.747922\n",
      "iteration 100 / 1500: loss 0.514240\n",
      "iteration 200 / 1500: loss 0.436063\n",
      "iteration 300 / 1500: loss 0.463936\n",
      "iteration 400 / 1500: loss 0.472146\n",
      "iteration 500 / 1500: loss 0.434846\n",
      "iteration 600 / 1500: loss 0.433724\n",
      "iteration 700 / 1500: loss 0.383974\n",
      "iteration 800 / 1500: loss 0.409303\n",
      "iteration 900 / 1500: loss 0.419514\n",
      "iteration 1000 / 1500: loss 0.414889\n",
      "iteration 1100 / 1500: loss 0.376590\n",
      "iteration 1200 / 1500: loss 0.430385\n",
      "iteration 1300 / 1500: loss 0.403441\n",
      "iteration 1400 / 1500: loss 0.435337\n",
      "iteration 0 / 1500: loss 0.860361\n",
      "iteration 100 / 1500: loss 33.854833\n",
      "iteration 200 / 1500: loss 0.000000\n",
      "iteration 300 / 1500: loss 0.000000\n",
      "iteration 400 / 1500: loss 0.000000\n",
      "iteration 500 / 1500: loss 0.000000\n",
      "iteration 600 / 1500: loss 0.000000\n",
      "iteration 700 / 1500: loss 8.464932\n",
      "iteration 800 / 1500: loss 0.000000\n",
      "iteration 900 / 1500: loss 0.006165\n",
      "iteration 1000 / 1500: loss 1.228670\n",
      "iteration 1100 / 1500: loss 0.000000\n",
      "iteration 1200 / 1500: loss 0.000000\n",
      "iteration 1300 / 1500: loss 0.000000\n",
      "iteration 1400 / 1500: loss 0.000000\n",
      "iteration 0 / 1500: loss 0.748329\n",
      "iteration 100 / 1500: loss 0.468384\n",
      "iteration 200 / 1500: loss 0.376060\n",
      "iteration 300 / 1500: loss 0.530475\n",
      "iteration 400 / 1500: loss 0.340368\n",
      "iteration 500 / 1500: loss 0.327475\n",
      "iteration 600 / 1500: loss 0.451477\n",
      "iteration 700 / 1500: loss 0.386369\n",
      "iteration 800 / 1500: loss 0.269027\n",
      "iteration 900 / 1500: loss 0.282511\n",
      "iteration 1000 / 1500: loss 0.552467\n",
      "iteration 1100 / 1500: loss 0.395415\n",
      "iteration 1200 / 1500: loss 0.249985\n",
      "iteration 1300 / 1500: loss 0.310827\n",
      "iteration 1400 / 1500: loss 0.272200\n",
      "iteration 0 / 1500: loss 0.671674\n",
      "iteration 100 / 1500: loss 0.475556\n",
      "iteration 200 / 1500: loss 0.335351\n",
      "iteration 300 / 1500: loss 0.361798\n",
      "iteration 400 / 1500: loss 0.378365\n",
      "iteration 500 / 1500: loss 0.320823\n",
      "iteration 600 / 1500: loss 0.276459\n",
      "iteration 700 / 1500: loss 0.304214\n",
      "iteration 800 / 1500: loss 0.327035\n",
      "iteration 900 / 1500: loss 0.342046\n",
      "iteration 1000 / 1500: loss 0.372255\n",
      "iteration 1100 / 1500: loss 0.280194\n",
      "iteration 1200 / 1500: loss 0.231010\n",
      "iteration 1300 / 1500: loss 0.243802\n",
      "iteration 1400 / 1500: loss 0.290136\n",
      "iteration 0 / 1500: loss 0.693535\n",
      "iteration 100 / 1500: loss 0.487292\n",
      "iteration 200 / 1500: loss 0.389941\n",
      "iteration 300 / 1500: loss 0.335922\n",
      "iteration 400 / 1500: loss 0.376368\n",
      "iteration 500 / 1500: loss 0.352647\n",
      "iteration 600 / 1500: loss 0.366812\n",
      "iteration 700 / 1500: loss 0.294276\n",
      "iteration 800 / 1500: loss 0.317442\n",
      "iteration 900 / 1500: loss 0.346238\n",
      "iteration 1000 / 1500: loss 0.306089\n",
      "iteration 1100 / 1500: loss 0.307021\n",
      "iteration 1200 / 1500: loss 0.297176\n",
      "iteration 1300 / 1500: loss 0.296542\n",
      "iteration 1400 / 1500: loss 0.248089\n",
      "lr 1.000000e-07 batch_size 1.000000e+00 train accuracy: 0.765800 val accuracy: 0.780000\n",
      "lr 1.000000e-07 batch_size 1.000000e+02 train accuracy: 0.811900 val accuracy: 0.820000\n",
      "lr 1.000000e-07 batch_size 2.000000e+02 train accuracy: 0.806500 val accuracy: 0.817000\n",
      "lr 1.000000e-07 batch_size 5.000000e+02 train accuracy: 0.808600 val accuracy: 0.822000\n",
      "lr 5.000000e-06 batch_size 1.000000e+00 train accuracy: 0.768000 val accuracy: 0.765000\n",
      "lr 5.000000e-06 batch_size 1.000000e+02 train accuracy: 0.818700 val accuracy: 0.827000\n",
      "lr 5.000000e-06 batch_size 2.000000e+02 train accuracy: 0.817600 val accuracy: 0.820000\n",
      "lr 5.000000e-06 batch_size 5.000000e+02 train accuracy: 0.820300 val accuracy: 0.838000\n",
      "best validation accuracy achieved during cross-validation: 0.838000\n",
      "Binary logistic regression on raw pixels final test set accuracy: 0.799000\n"
     ]
    }
   ],
   "source": [
    "# You are encouraged to experiment with additional values\n",
    "learning_rates = [1e-7, 5e-6]\n",
    "batch_sizes = [1, 100, 200, 500]\n",
    "\n",
    "results = {}\n",
    "best_val = -1   # The highest validation accuracy that we have seen so far.\n",
    "best_logistic = None # The LogisticRegression object that achieved the highest validation rate.\n",
    "\n",
    "################################################################################\n",
    "#                            START OF YOUR CODE                                #\n",
    "################################################################################\n",
    "for lr in learning_rates:\n",
    "    for bs in batch_sizes:\n",
    "        logistic = LogisticRegression(X_train, y_train)\n",
    "        loss = logistic.train(X_train, y_train, learning_rate=lr, num_iters=1500, batch_size=bs ,verbose=True)\n",
    "        training_accuracy = logistic.calc_accuracy(X_train, y_train)\n",
    "        validation_accuracy = logistic.calc_accuracy(X_val, y_val)\n",
    "        results[(lr, bs)] = (training_accuracy, validation_accuracy)\n",
    "        if validation_accuracy > best_val:\n",
    "            best_val = validation_accuracy\n",
    "            best_logistic = perceptron\n",
    "\n",
    "\n",
    "################################################################################\n",
    "#                              END OF YOUR CODE                                #\n",
    "################################################################################\n",
    "    \n",
    "# Print out results.\n",
    "for lr, batch_size in sorted(results):\n",
    "    train_accuracy, val_accuracy = results[(lr, batch_size)]\n",
    "    print ('lr %e batch_size %e train accuracy: %f val accuracy: %f' % (\n",
    "                lr, batch_size, train_accuracy, val_accuracy))\n",
    "    \n",
    "print ('best validation accuracy achieved during cross-validation: %f' % best_val)\n",
    "\n",
    "test_accuracy = best_logistic.calc_accuracy(X_test, y_test)\n",
    "print ('Binary logistic regression on raw pixels final test set accuracy: %f' % test_accuracy)"
   ]
  },
  {
   "cell_type": "markdown",
   "metadata": {
    "id": "rdRdvKwR7MdF"
   },
   "source": [
    "# The End!"
   ]
  }
 ],
 "metadata": {
  "colab": {
   "collapsed_sections": [],
   "name": "HW1.ipynb",
   "provenance": []
  },
  "kernelspec": {
   "display_name": "Python 3 (ipykernel)",
   "language": "python",
   "name": "python3"
  },
  "language_info": {
   "codemirror_mode": {
    "name": "ipython",
    "version": 3
   },
   "file_extension": ".py",
   "mimetype": "text/x-python",
   "name": "python",
   "nbconvert_exporter": "python",
   "pygments_lexer": "ipython3",
   "version": "3.9.18"
  },
  "toc": {
   "base_numbering": 1,
   "nav_menu": {},
   "number_sections": true,
   "sideBar": true,
   "skip_h1_title": false,
   "title_cell": "Table of Contents",
   "title_sidebar": "Contents",
   "toc_cell": false,
   "toc_position": {},
   "toc_section_display": true,
   "toc_window_display": false
  },
  "varInspector": {
   "cols": {
    "lenName": 16,
    "lenType": 16,
    "lenVar": 40
   },
   "kernels_config": {
    "python": {
     "delete_cmd_postfix": "",
     "delete_cmd_prefix": "del ",
     "library": "var_list.py",
     "varRefreshCmd": "print(var_dic_list())"
    },
    "r": {
     "delete_cmd_postfix": ") ",
     "delete_cmd_prefix": "rm(",
     "library": "var_list.r",
     "varRefreshCmd": "cat(var_dic_list()) "
    }
   },
   "types_to_exclude": [
    "module",
    "function",
    "builtin_function_or_method",
    "instance",
    "_Feature"
   ],
   "window_display": false
  }
 },
 "nbformat": 4,
 "nbformat_minor": 4
}
