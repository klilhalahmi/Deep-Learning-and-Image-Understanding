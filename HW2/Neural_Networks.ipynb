{
 "cells": [
  {
   "cell_type": "markdown",
   "metadata": {
    "id": "CpGv7oW4PwdM"
   },
   "source": [
    "# Exercise 2: Neural Networks\n",
    "\n",
    "In the previous exercise you implemented a classifier with one linear layer. In this exercise, you will implement a three layer multi-class neural network.\n",
    "\n",
    "## Submission guidelines:\n",
    "\n",
    "Your submission should only include this jupyter notebook named ex2_ID.ipynb (not in zip).\n",
    "\n",
    "## Read the following instructions carefully:\n",
    "\n",
    "1. This jupyter notebook contains all the step by step instructions needed for this exercise.\n",
    "2. Write **efficient vectorized** code whenever possible. \n",
    "3. You are responsible for the correctness of your code and should add as many tests as you see fit. Tests will not be graded nor checked.\n",
    "4. Do not change the functions we provided you. \n",
    "4. Write your functions in the instructed python modules only. All the logic you write is imported and used using this jupyter notebook. You are allowed to add functions as long as they are located in the python modules and are imported properly.\n",
    "5. You are allowed to use functions and methods from the [Python Standard Library](https://docs.python.org/3/library/) and [numpy](https://www.numpy.org/devdocs/reference/) only. Any other imports are forbidden.\n",
    "6. Your code must run without errors.\n",
    "7. **Before submitting the exercise, restart the kernel and run the notebook from start to finish to make sure everything works. You should include your desired outputs in the output cells to make your code easier to understand.**\n",
    "8. Write your own code. Cheating will not be tolerated. \n",
    "9. Answers to qualitative questions should be written in **markdown** cells (with $\\LaTeX$ support).\n",
    "\n",
    "**TIP:** You may find the following link helpful: \n",
    "http://cs231n.github.io/neural-networks-case-study"
   ]
  },
  {
   "cell_type": "code",
   "execution_count": 1,
   "metadata": {
    "ExecuteTime": {
     "end_time": "2022-11-28T06:46:18.152048Z",
     "start_time": "2022-11-28T06:46:17.469849Z"
    },
    "id": "pA0hjtyJPwdO"
   },
   "outputs": [],
   "source": [
    "import os\n",
    "import numpy as np\n",
    "import matplotlib.pyplot as plt\n",
    "import pickle\n",
    "import numpy as np\n",
    "import os\n",
    "import sys\n",
    "import urllib.request\n",
    "import tarfile\n",
    "import zipfile\n",
    "from random import randrange\n",
    "from functools import partial\n",
    "import itertools\n",
    "\n",
    "# specify the way plots behave in jupyter notebook\n",
    "%matplotlib inline\n",
    "plt.rcParams['figure.figsize'] = (12.0, 12.0) # set default size of plots\n",
    "plt.rcParams['image.interpolation'] = 'nearest'\n",
    "plt.rcParams['image.cmap'] = 'gray'"
   ]
  },
  {
   "cell_type": "markdown",
   "metadata": {
    "id": "QcYX2rU2PwdP"
   },
   "source": [
    "# Data preprocessing\n"
   ]
  },
  {
   "cell_type": "markdown",
   "metadata": {
    "id": "Oa-bjEWl9fW6"
   },
   "source": [
    "## Data download and processing Helper Code"
   ]
  },
  {
   "cell_type": "code",
   "execution_count": 2,
   "metadata": {
    "ExecuteTime": {
     "end_time": "2022-11-28T06:46:18.167551Z",
     "start_time": "2022-11-28T06:46:18.153952Z"
    },
    "id": "9_uAlYcQ9dF7"
   },
   "outputs": [],
   "source": [
    "def maybe_download_and_extract(url, download_dir):\n",
    "    \"\"\"\n",
    "    Download and extract the data if it doesn't already exist.\n",
    "    Assumes the url is a tar-ball file.\n",
    "    :param url:\n",
    "        Internet URL for the tar-file to download.\n",
    "        Example: \"https://www.cs.toronto.edu/~kriz/cifar-10-python.tar.gz\"\n",
    "    :param download_dir:\n",
    "        Directory where the downloaded file is saved.\n",
    "        Example: \"data/CIFAR-10/\"\n",
    "    :return:\n",
    "        Nothing.\n",
    "    \"\"\"\n",
    "\n",
    "    # Filename for saving the file downloaded from the internet.\n",
    "    # Use the filename from the URL and add it to the download_dir.\n",
    "    filename = url.split('/')[-1]\n",
    "    file_path = os.path.join(download_dir, filename)\n",
    "\n",
    "    # Check if the file already exists.\n",
    "    # If it exists then we assume it has also been extracted,\n",
    "    # otherwise we need to download and extract it now.\n",
    "    if not os.path.exists(file_path):\n",
    "        # Check if the download directory exists, otherwise create it.\n",
    "        if not os.path.exists(download_dir):\n",
    "            os.makedirs(download_dir)\n",
    "\n",
    "        # Download the file from the internet.\n",
    "        print(\"Downloading, This might take several minutes.\")\n",
    "        file_path, _ = urllib.request.urlretrieve(url=url,\n",
    "                                                  filename=file_path)\n",
    "\n",
    "        print()\n",
    "        print(\"Download finished. Extracting files.\")\n",
    "\n",
    "        if file_path.endswith(\".zip\"):\n",
    "            # Unpack the zip-file.\n",
    "            zipfile.ZipFile(file=file_path, mode=\"r\").extractall(download_dir)\n",
    "        elif file_path.endswith((\".tar.gz\", \".tgz\")):\n",
    "            # Unpack the tar-ball.\n",
    "            tarfile.open(name=file_path, mode=\"r:gz\").extractall(download_dir)\n",
    "\n",
    "        print(\"Done.\")\n",
    "    else:\n",
    "        print(\"Data has apparently already been downloaded and unpacked.\")\n",
    "        print(\"If not, delete the dataset folder and try again.\")\n",
    "\n",
    "def load_CIFAR_batch(filename):\n",
    "    ''' load single batch of cifar '''\n",
    "    with open(filename, 'rb') as f:\n",
    "        datadict = pickle.load(f, encoding = 'latin1')\n",
    "        X = datadict['data']\n",
    "        Y = datadict['labels']\n",
    "        X = X.reshape(10000, 3, 32, 32).transpose(0, 2, 3, 1).astype(\"float\")\n",
    "        Y = np.array(Y)\n",
    "        return X, Y\n",
    "\n",
    "def load(ROOT):\n",
    "    ''' load all of cifar '''\n",
    "    xs = []\n",
    "    ys = []\n",
    "    for b in range(1, 6):\n",
    "        f = os.path.join(ROOT, 'data_batch_%d' % (b, ))\n",
    "        X, Y = load_CIFAR_batch(f)\n",
    "        xs.append(X)\n",
    "        ys.append(Y)\n",
    "    Xtr = np.concatenate(xs)\n",
    "    Ytr = np.concatenate(ys)\n",
    "    del X, Y\n",
    "    Xte, Yte = load_CIFAR_batch(os.path.join(ROOT, 'test_batch'))\n",
    "    return Xtr, Ytr, Xte, Yte"
   ]
  },
  {
   "cell_type": "markdown",
   "metadata": {
    "id": "8MeVWzF19mVA"
   },
   "source": [
    "## Data Download\n",
    "\n",
    "The next cell will download and extract CIFAR-10 into `datasets/cifar10/`. The CIFAR-10 dataset consists of 60,000 32x32 color images in 10 classes, with 6,000 images per class. There are 50,000 training images and 10,000 test images. The dataset is divided into five training batches and one test batch, each with 10,000 images. The test batch contains exactly 1,000 randomly-selected images from each class.\n"
   ]
  },
  {
   "cell_type": "code",
   "execution_count": 3,
   "metadata": {
    "ExecuteTime": {
     "end_time": "2022-11-28T06:46:18.183294Z",
     "start_time": "2022-11-28T06:46:18.170425Z"
    },
    "colab": {
     "base_uri": "https://localhost:8080/"
    },
    "id": "8bHbknwvPwdQ",
    "outputId": "14fd8ca9-ed8b-4d8a-c12d-313a6e16d2e8"
   },
   "outputs": [
    {
     "name": "stdout",
     "output_type": "stream",
     "text": [
      "Data has apparently already been downloaded and unpacked.\n",
      "If not, delete the dataset folder and try again.\n"
     ]
    }
   ],
   "source": [
    "# this cell will download the data if it does not exists\n",
    "URL = \"https://www.cs.toronto.edu/~kriz/cifar-10-python.tar.gz\"\n",
    "PATH = 'datasets/cifar10/' # the script will create required directories\n",
    "maybe_download_and_extract(URL, PATH) "
   ]
  },
  {
   "cell_type": "markdown",
   "metadata": {
    "id": "beFt0AfB9w9f"
   },
   "source": [
    "## Data Preprocessing"
   ]
  },
  {
   "cell_type": "markdown",
   "metadata": {
    "id": "H_YTIdyB5qMO"
   },
   "source": [
    "**Notice that we are leaving behind the bias trick in this exercise.**"
   ]
  },
  {
   "cell_type": "code",
   "execution_count": 4,
   "metadata": {
    "ExecuteTime": {
     "end_time": "2022-11-28T06:46:20.967912Z",
     "start_time": "2022-11-28T06:46:18.185329Z"
    },
    "colab": {
     "base_uri": "https://localhost:8080/"
    },
    "id": "fyLpzTyzPwdQ",
    "outputId": "7b4b3f20-a530-4f99-8a17-9a83c7822d38"
   },
   "outputs": [
    {
     "name": "stdout",
     "output_type": "stream",
     "text": [
      "Shape of training set: (20000, 3072)\n",
      "Shape of validation set: (1000, 3072)\n",
      "Shape of test set: (1000, 3072)\n"
     ]
    }
   ],
   "source": [
    "CIFAR10_PATH = os.path.join(PATH, 'cifar-10-batches-py')\n",
    "X_train, y_train, X_test, y_test = load(CIFAR10_PATH) # load the entire data\n",
    "num_classes = 4\n",
    "\n",
    "X_train = X_train[np.isin(y_train, range(num_classes))]\n",
    "y_train = y_train[np.isin(y_train, range(num_classes))]\n",
    "X_test = X_test[np.isin(y_test, range(num_classes))]\n",
    "y_test = y_test[np.isin(y_test, range(num_classes))]\n",
    "\n",
    "# define a splitting for the data\n",
    "num_training = num_classes*5000\n",
    "num_validation = 1000\n",
    "num_testing = 1000\n",
    "\n",
    "# add a validation dataset for hyperparameter optimization\n",
    "mask = range(num_training)\n",
    "X_train = X_train[mask]\n",
    "y_train = y_train[mask]\n",
    "mask = range(num_validation)\n",
    "X_val = X_test[mask]\n",
    "y_val = y_test[mask]\n",
    "mask = range(num_validation, num_validation+num_testing)\n",
    "X_test = X_test[mask]\n",
    "y_test = y_test[mask]\n",
    "\n",
    "# float64\n",
    "X_train = X_train.astype(np.float64)\n",
    "X_val = X_val.astype(np.float64)\n",
    "X_test = X_test.astype(np.float64)\n",
    "\n",
    "# subtract the mean from all the images in the batch\n",
    "mean_image = np.mean(X_train, axis=0)\n",
    "X_train -= mean_image\n",
    "X_val -= mean_image\n",
    "X_test -= mean_image\n",
    "\n",
    "# flatten all the images in the batch (make sure you understand why this is needed)\n",
    "X_train = np.reshape(X_train, newshape=(X_train.shape[0], -1))\n",
    "X_val = np.reshape(X_val, newshape=(X_val.shape[0], -1)) \n",
    "X_test = np.reshape(X_test, newshape=(X_test.shape[0], -1)) \n",
    "\n",
    "print(f\"Shape of training set: {X_train.shape}\")\n",
    "print(f\"Shape of validation set: {X_val.shape}\")\n",
    "print(f\"Shape of test set: {X_test.shape}\")\n",
    "\n",
    "classes = ['plane', 'car', 'bird', 'cat']"
   ]
  },
  {
   "cell_type": "code",
   "execution_count": 5,
   "metadata": {
    "ExecuteTime": {
     "end_time": "2022-11-28T06:46:21.137947Z",
     "start_time": "2022-11-28T06:46:20.972016Z"
    },
    "colab": {
     "base_uri": "https://localhost:8080/",
     "height": 234
    },
    "id": "mHATPoNJPwdQ",
    "outputId": "bc544bf9-ecce-4903-eeeb-22afee3b745c"
   },
   "outputs": [
    {
     "name": "stdout",
     "output_type": "stream",
     "text": [
      "     bird      bird     plane     plane\n"
     ]
    },
    {
     "data": {
      "image/png": "[encoded data removed]",
      "text/plain": [
       "<Figure size 1200x1200 with 1 Axes>"
      ]
     },
     "metadata": {},
     "output_type": "display_data"
    }
   ],
   "source": [
    "def get_batch(X, y, n=1000):\n",
    "    rand_items = np.random.randint(0, X.shape[0], size=n)\n",
    "    images = X[rand_items]\n",
    "    labels = y[rand_items]\n",
    "    return images, labels\n",
    "\n",
    "def make_random_grid(x, y, n=4, convert_to_image=True, random_flag=True):\n",
    "    if random_flag:\n",
    "        rand_items = np.random.randint(0, x.shape[0], size=n)\n",
    "    else:\n",
    "        rand_items = np.arange(0, x.shape[0])\n",
    "    images = x[rand_items]\n",
    "    labels = y[rand_items]\n",
    "    if convert_to_image:\n",
    "        grid = np.hstack(np.array([np.asarray((vec_2_img(i) + mean_image), dtype=np.int64) for i in images]))\n",
    "    else:\n",
    "        grid = np.hstack(np.array([np.asarray(i, dtype=np.int64) for i in images]))\n",
    "    print(' '.join('%9s' % classes[labels[j]] for j in range(n)))\n",
    "    return grid\n",
    "\n",
    "def vec_2_img(x):\n",
    "    x = np.reshape(x, (32, 32, 3))\n",
    "    return x\n",
    "\n",
    "X_batch, y_batch = get_batch(X_test, y_test, 100)\n",
    "plt.imshow(make_random_grid(X_batch, y_batch, convert_to_image=True));"
   ]
  },
  {
   "cell_type": "markdown",
   "metadata": {
    "id": "r9MRQD6v4aDz"
   },
   "source": [
    "# Loss"
   ]
  },
  {
   "cell_type": "markdown",
   "metadata": {
    "id": "kRuXmTuzPwdS"
   },
   "source": [
    "## Cross-entropy\n",
    "\n",
    "\n",
    "Complete the function `softmax_loss` using vectorized code. This function takes as input `scores`, labels `y` and outputs the calculated loss as a single number and the gradients with respect to X. **(10 Points)**"
   ]
  },
  {
   "cell_type": "code",
   "execution_count": 6,
   "metadata": {
    "ExecuteTime": {
     "end_time": "2022-11-28T06:46:21.153755Z",
     "start_time": "2022-11-28T06:46:21.140549Z"
    },
    "id": "GQ2BtZDMOaMv"
   },
   "outputs": [],
   "source": [
    "def softmax_loss(scores, y):\n",
    "    \"\"\"\n",
    "    Computes the loss and gradient for softmax classification.\n",
    "\n",
    "    Inputs:\n",
    "    - scores: scores of shape (N, C) where scores[i, c] is the score for class c on input X[i].\n",
    "    - y: Vector of labels\n",
    "\n",
    "    Returns a tuple of:\n",
    "    - loss: Scalar giving the loss\n",
    "    - dx: Gradient of the loss with respect to x\n",
    "    \"\"\"\n",
    "    ###########################################################################\n",
    "    # TODO: Implement this function                                           #\n",
    "    ###########################################################################\n",
    "    N = y.shape[0]\n",
    "\n",
    "    # Compute the softmax scores\n",
    "    softmax = np.exp(scores)/np.sum(np.exp(scores), axis=1, keepdims=True)\n",
    "\n",
    "    # Compute the loss\n",
    "    loss = -np.sum(np.log(softmax[np.arange(N), y])) / N\n",
    "\n",
    "    dx = softmax.copy()\n",
    "    dx[np.arange(N), y] -= 1\n",
    "    dx /= N\n",
    "    ###########################################################################\n",
    "    #                              END OF YOUR CODE                           #\n",
    "    ###########################################################################\n",
    "    return loss, dx"
   ]
  },
  {
   "cell_type": "code",
   "execution_count": 7,
   "metadata": {
    "ExecuteTime": {
     "end_time": "2022-11-28T06:46:21.169038Z",
     "start_time": "2022-11-28T06:46:21.155754Z"
    },
    "id": "GQ2BtZDMOaMv"
   },
   "outputs": [],
   "source": [
    "# some tests\n",
    "np.random.seed(42)\n",
    "\n",
    "num_instances = 5\n",
    "num_classes = 3\n",
    "\n",
    "y = np.random.randint(num_classes, size=num_instances)\n",
    "scores = np.random.randn(num_instances * num_classes).reshape(num_instances, num_classes)\n",
    "loss, dx = softmax_loss(scores, y)\n",
    "\n",
    "\n",
    "correct_grad = np.array([[ 0.0062,  0.1751, -0.1813],\n",
    "         [-0.1463,  0.0561,  0.0901],\n",
    "         [ 0.0404,  0.0771, -0.1174],\n",
    "         [ 0.0223,  0.0855, -0.1078],\n",
    "         [-0.1935,  0.1358,  0.0578]])\n",
    "correct_loss = 1.7544\n",
    "assert np.isclose(dx.round(4), correct_grad, rtol=1e-3).all()\n",
    "assert np.isclose(loss.round(4), correct_loss, rtol=1e-3).all()"
   ]
  },
  {
   "cell_type": "markdown",
   "metadata": {
    "id": "W3b1r34XiywH"
   },
   "source": [
    "## L2 Regularization\n",
    "\n",
    "Regularization is a very important technique in machine learning to prevent overfitting. Mathematically speaking, it adds a regularization term to the loss to penalize larger weights. \n",
    "$$\n",
    "Loss = Loss + \\lambda  \\cdot \\frac{1}{2} \\cdot \\sum_{i=0}^k w_k^2\n",
    "$$\n",
    "\n",
    "Implement the L2 regularization part of the loss in the next cell: **(10 Points)**"
   ]
  },
  {
   "cell_type": "code",
   "execution_count": 8,
   "metadata": {
    "ExecuteTime": {
     "end_time": "2022-11-28T06:46:21.184401Z",
     "start_time": "2022-11-28T06:46:21.171489Z"
    },
    "id": "wk--K9pGi_Lb"
   },
   "outputs": [],
   "source": [
    "def l2_regulariztion_loss(W, reg=0):\n",
    "    \"\"\"\n",
    "    L2 regulariztion loss function, vectorized version.\n",
    "    - W: a layer's weights.\n",
    "    - reg: (float) regularization strength\n",
    "    \"\"\"\n",
    "    loss = 0.0\n",
    "    dW = np.zeros_like(W)\n",
    "    #############################################################################\n",
    "    # TODO: Compute the L2 reulariztion loss and its gradient using no \n",
    "    # explicit loops.                                                           #\n",
    "    # Store the loss in loss and the gradient in dW.                            #\n",
    "    #############################################################################\n",
    "    \n",
    "    loss = 0.5*reg*np.sum(W**2)\n",
    "    dW = W*reg\n",
    "    \n",
    "    #############################################################################\n",
    "    #                          END OF YOUR CODE                                 #\n",
    "    #############################################################################\n",
    "    return loss, dW"
   ]
  },
  {
   "cell_type": "markdown",
   "metadata": {
    "id": "xerXQe6hPwdU"
   },
   "source": [
    "# Neural Network\n",
    "\n",
    "The implementation of linear regression was (hopefully) simple yet not very modular since the layer, loss and gradient were calculated as a single monolithic function. This would become impractical as we move towards bigger models. As a warmup towards `PyTorch`, we want to build networks using a more modular design so that we can implement different layer types in isolation and easily integrate them together into models with different architectures.\n",
    "\n",
    "This logic of isolation & integration is at the heart of all popular deep learning frameworks, and is based on two methods each layer holds - a forward and backward pass. The forward function will receive inputs, weights and other parameters and will return both an output and a cache object storing data needed for the backward pass. The backward pass will receive upstream derivatives and the cache, and will return gradients with respect to the inputs and weights. By implementing several types of layers this way, we will be able to easily combine them to build classifiers with different architectures with relative ease.\n",
    "\n",
    "We will implement a neural network to obtain better results on CIFAR-10. \n",
    "Our neural network will be implemented in the following cells. We will train this network using softmax loss and L2 regularization and a ReLU non-linearity.\n",
    "\n"
   ]
  },
  {
   "cell_type": "markdown",
   "metadata": {
    "id": "CHH9dGgt4NP3"
   },
   "source": [
    "### Fully Connected Layer: Forward Pass. \n",
    "\n",
    "Implement the function `fc_forward`. **(5 Points)**"
   ]
  },
  {
   "cell_type": "code",
   "execution_count": 9,
   "metadata": {
    "ExecuteTime": {
     "end_time": "2022-11-28T06:46:21.200656Z",
     "start_time": "2022-11-28T06:46:21.189432Z"
    },
    "id": "OO3vgLtGVWkv"
   },
   "outputs": [],
   "source": [
    "def fc_forward(X, W, b):\n",
    "    \"\"\"\n",
    "    Computes the forward pass for an fully connected layer.\n",
    "    The input x has shape (N, d_1, ..., d_k) and contains a minibatch of N\n",
    "    examples, where each example x[i] has shape (d_1, ..., d_k). We will\n",
    "    reshape each input into a vector of dimension D = d_1 * ... * d_k, and\n",
    "    then transform it to an output vector of dimension M.\n",
    "    Inputs:\n",
    "    - x: A numpy array containing input data, of shape (N, d_1, ..., d_k)\n",
    "    - W: A numpy array of weights, of shape (D, M)\n",
    "    - b: A numpy array of biases, of shape (M,)\n",
    "\n",
    "    Returns a tuple of:\n",
    "    - out: output, of shape (N, M)\n",
    "    - cache: (x, w, b)\n",
    "    \"\"\"\n",
    "    out = None\n",
    "    #############################################################################\n",
    "    # TODO: Implement the affine forward pass. Store the result in out. You     #\n",
    "    # will need to reshape the input into rows.                                 #\n",
    "    #############################################################################\n",
    "    X_reshaped = X.reshape((X.shape[0], -1))\n",
    "    \n",
    "    # Compute the forward pass \n",
    "    out = X_reshaped.dot(W) + b\n",
    "        \n",
    "    #############################################################################\n",
    "    #                             END OF YOUR CODE                              #\n",
    "    #############################################################################\n",
    "    cache = (X.copy(), W.copy(), b.copy())\n",
    "    return out, cache"
   ]
  },
  {
   "cell_type": "code",
   "execution_count": 10,
   "metadata": {
    "ExecuteTime": {
     "end_time": "2022-11-28T06:46:21.215718Z",
     "start_time": "2022-11-28T06:46:21.202326Z"
    },
    "id": "bkwG7GJ_PwdU"
   },
   "outputs": [],
   "source": [
    "np.random.seed(42)\n",
    "\n",
    "num_instances = 5\n",
    "input_shape = (11, 7, 3)\n",
    "output_shape = 4\n",
    "\n",
    "X = np.random.randn(num_instances * np.prod(input_shape)).reshape(num_instances, *input_shape)\n",
    "W = np.random.randn(np.prod(input_shape) * output_shape).reshape(np.prod(input_shape), output_shape)\n",
    "b = np.random.randn(output_shape)\n",
    "\n",
    "out, _ = fc_forward(X, W, b)\n",
    "\n",
    "correct_out = np.array([[16.77132953,  1.43667172, -15.60205534,   7.15789287],\n",
    "                        [ -8.5994206,  7.59104298,  10.92160126,  17.19394331],\n",
    "                        [ 4.77874003,  2.25606192,  -6.10944859,  14.76954561],\n",
    "                        [21.21222953, 17.82329258,   4.53431782,  -9.88327913],\n",
    "                        [18.83041801, -2.55273817,  14.08484003,  -3.99196171]])\n",
    "\n",
    "assert np.isclose(out, correct_out, rtol=1e-8).all()"
   ]
  },
  {
   "cell_type": "markdown",
   "metadata": {
    "id": "HaJgjBa2PwdU"
   },
   "source": [
    "### Fully Connected Layer: Backward Pass \n",
    "\n",
    "Implement the function `fc_backward` **(5 Points)**"
   ]
  },
  {
   "cell_type": "code",
   "execution_count": 11,
   "metadata": {
    "ExecuteTime": {
     "end_time": "2022-11-28T06:46:21.231622Z",
     "start_time": "2022-11-28T06:46:21.217581Z"
    },
    "id": "GKGLxK7wVakI"
   },
   "outputs": [],
   "source": [
    "def fc_backward(dout, cache):\n",
    "    \"\"\"\n",
    "    Computes the backward pass for an fully connected layer.\n",
    "    Try the link in the exercise intructions for more details.\n",
    "\n",
    "    Inputs:\n",
    "    - dout: Upstream derivatives\n",
    "    - cache: Tuple of:\n",
    "      - X: Input data\n",
    "      - W: Weights\n",
    "      - b: Biases\n",
    "\n",
    "    Returns a tuple of:\n",
    "    - dx: Gradient with respect to X\n",
    "    - dw: Gradient with respect to W\n",
    "    - db: Gradient with respect to b\n",
    "    \"\"\"\n",
    "    x, w, b = cache\n",
    "    dx, dw, db = 0, 0, 0\n",
    "    ###########################################################################\n",
    "    # TODO: Implement the affine backward pass.                               #\n",
    "    ###########################################################################\n",
    "\n",
    "    dx = dout.dot(w.T).reshape(x.shape)\n",
    "    dw = x.reshape(x.shape[0], -1).T.dot(dout)\n",
    "    db = np.sum(dout, axis=0)\n",
    "        \n",
    "    ###########################################################################\n",
    "    #                             END OF YOUR CODE                            #\n",
    "    ###########################################################################\n",
    "    return dx, dw, db"
   ]
  },
  {
   "cell_type": "code",
   "execution_count": 12,
   "metadata": {
    "ExecuteTime": {
     "end_time": "2022-11-28T06:46:21.247332Z",
     "start_time": "2022-11-28T06:46:21.232614Z"
    },
    "id": "K3Xcoeqxnq_F"
   },
   "outputs": [],
   "source": [
    "def eval_numerical_gradient_array(f, x, df, h=1e-5):\n",
    "    \"\"\"\n",
    "    Evaluate a numeric gradient for a function that accepts a numpy\n",
    "    array and returns a numpy array.\n",
    "    \"\"\"\n",
    "    grad = np.zeros_like(x)\n",
    "    it = np.nditer(x, flags=['multi_index'], op_flags=['readwrite'])\n",
    "    while not it.finished:\n",
    "        ix = it.multi_index\n",
    "\n",
    "        oldval = x[ix]\n",
    "        x[ix] = oldval + h\n",
    "        pos = f(x).copy()\n",
    "        x[ix] = oldval - h\n",
    "        neg = f(x).copy()\n",
    "        x[ix] = oldval\n",
    "\n",
    "        grad[ix] = np.sum((pos - neg) * df) / (2 * h)\n",
    "        it.iternext()\n",
    "    return grad"
   ]
  },
  {
   "cell_type": "code",
   "execution_count": 13,
   "metadata": {
    "ExecuteTime": {
     "end_time": "2022-11-28T06:46:21.262753Z",
     "start_time": "2022-11-28T06:46:21.248711Z"
    },
    "id": "7J13imMzPwdU"
   },
   "outputs": [],
   "source": [
    "np.random.seed(42)\n",
    "x = np.random.randn(10, 2, 3)\n",
    "w = np.random.randn(6, 5)\n",
    "b = np.random.randn(5)\n",
    "dout = np.random.randn(10, 5)\n",
    "\n",
    "dx_num = eval_numerical_gradient_array(lambda x: fc_forward(x, w, b)[0], x, dout)\n",
    "dw_num = eval_numerical_gradient_array(lambda w: fc_forward(x, w, b)[0], w, dout)\n",
    "db_num = eval_numerical_gradient_array(lambda b: fc_forward(x, w, b)[0], b, dout)\n",
    "\n",
    "out, cache = fc_forward(x,w,b)\n",
    "dx, dw, db = fc_backward(dout, cache)\n",
    "\n",
    "assert np.isclose(dw, dw_num, rtol=1e-8).all() # simple test\n",
    "assert np.isclose(dx, dx_num, rtol=1e-8).all() # simple test\n",
    "assert np.isclose(db, db_num, rtol=1e-8).all() # simple test"
   ]
  },
  {
   "cell_type": "markdown",
   "metadata": {
    "id": "V6D5b-J5PwdV"
   },
   "source": [
    "### ReLU: Forward Pass \n",
    "\n",
    "Implement the function `relu_forward`. **(5 Points)**"
   ]
  },
  {
   "cell_type": "code",
   "execution_count": 14,
   "metadata": {
    "ExecuteTime": {
     "end_time": "2022-11-28T06:46:21.278815Z",
     "start_time": "2022-11-28T06:46:21.264744Z"
    },
    "id": "bO5iMs3aVeTl"
   },
   "outputs": [],
   "source": [
    "def relu_forward(x):\n",
    "    \"\"\"\n",
    "    Computes the forward pass for a layer of rectified linear units (ReLUs).\n",
    "\n",
    "    Input:\n",
    "    - x: Inputs, of any shape\n",
    "\n",
    "    Returns a tuple of:\n",
    "    - out: Output, of the same shape as x\n",
    "    - cache: x\n",
    "    \"\"\"\n",
    "    out = None\n",
    "    #############################################################################\n",
    "    # TODO: Implement the ReLU forward pass.                                    #\n",
    "    #############################################################################\n",
    "    \n",
    "    out = np.maximum(0, x)\n",
    "        \n",
    "    #############################################################################\n",
    "    #                             END OF YOUR CODE                              #\n",
    "    #############################################################################\n",
    "    cache = x.copy()\n",
    "    return out, cache"
   ]
  },
  {
   "cell_type": "code",
   "execution_count": 15,
   "metadata": {
    "ExecuteTime": {
     "end_time": "2022-11-28T06:46:21.294685Z",
     "start_time": "2022-11-28T06:46:21.280962Z"
    },
    "id": "WdYx8zaOPwdV"
   },
   "outputs": [],
   "source": [
    "x = np.linspace(-0.5, 0.5, num=12).reshape(3, 4)\n",
    "out, _ = relu_forward(x)\n",
    "correct_out = np.array([[ 0.,          0.,          0.,          0.,        ],\n",
    "                        [ 0.,          0.,          0.04545455,  0.13636364,],\n",
    "                        [ 0.22727273,  0.31818182,  0.40909091,  0.5,       ]])\n",
    "\n",
    "assert np.isclose(out, correct_out, rtol=1e-8).all() # simple test"
   ]
  },
  {
   "cell_type": "markdown",
   "metadata": {
    "id": "jOP-MRufPwdV"
   },
   "source": [
    "### ReLU: Backward Pass\n",
    "\n",
    "Implement the function `relu_backward`. **(5 Points)**"
   ]
  },
  {
   "cell_type": "code",
   "execution_count": 16,
   "metadata": {
    "ExecuteTime": {
     "end_time": "2022-11-28T06:46:21.310754Z",
     "start_time": "2022-11-28T06:46:21.296684Z"
    },
    "id": "n3YsNEphVhuo"
   },
   "outputs": [],
   "source": [
    "def relu_backward(dout, cache):\n",
    "    \"\"\"\n",
    "    Computes the backward pass for a layer of rectified linear units (ReLUs).\n",
    "\n",
    "    Input:\n",
    "    - dout: Upstream derivatives, of any shape\n",
    "    - cache: Input x, of same shape as dout\n",
    "\n",
    "    Returns:\n",
    "    - dx: Gradient with respect to x\n",
    "    \"\"\"\n",
    "    dx, x = None, cache\n",
    "    #############################################################################\n",
    "    # TODO: Implement the ReLU backward pass.                                   #\n",
    "    #############################################################################\n",
    "\n",
    "    dx = dout * (cache > 0)\n",
    "    \n",
    "    #############################################################################\n",
    "    #                             END OF YOUR CODE                              #\n",
    "    #############################################################################\n",
    "    return dx"
   ]
  },
  {
   "cell_type": "code",
   "execution_count": 17,
   "metadata": {
    "ExecuteTime": {
     "end_time": "2022-11-28T06:46:21.325592Z",
     "start_time": "2022-11-28T06:46:21.312932Z"
    },
    "id": "w_9OFZZ-PwdV"
   },
   "outputs": [],
   "source": [
    "np.random.seed(42)\n",
    "x = np.random.randn(10, 10)\n",
    "dout = np.random.randn(*x.shape)\n",
    "dx_num = eval_numerical_gradient_array(lambda x: relu_forward(x)[0], x, dout)\n",
    "xx, cache = relu_forward(x)\n",
    "dx = relu_backward(dout, cache)\n",
    "\n",
    "assert np.isclose(dx, dx_num, rtol=1e-8).all()  # simple test"
   ]
  },
  {
   "cell_type": "markdown",
   "metadata": {
    "id": "kX0UZJdDPwdV"
   },
   "source": [
    "### Combined Layer\n",
    "Next combine the fully connected and relu forward\\backward functions togther using the functions in the following cell. \n",
    "Remember to use functions you already implemented.\n",
    "**(5 Points)**"
   ]
  },
  {
   "cell_type": "code",
   "execution_count": 18,
   "metadata": {
    "ExecuteTime": {
     "end_time": "2022-11-28T06:46:21.341148Z",
     "start_time": "2022-11-28T06:46:21.327148Z"
    },
    "id": "yhSV6tHgpZd0"
   },
   "outputs": [],
   "source": [
    "def fc_relu_forward(X, W, b):\n",
    "    \"\"\"\n",
    "    Forward pass for a fully connected layer followed by a ReLU.\n",
    "\n",
    "    Inputs:\n",
    "    - X: Input to the fc layer\n",
    "    - W, b: Weights for the fc layer\n",
    "\n",
    "    Returns:\n",
    "    - out: Output from the ReLU\n",
    "    - cache: Object to give to the backward pass\n",
    "    \"\"\"\n",
    "    #############################################################################\n",
    "    # TODO: Implement the function.                                             #\n",
    "    #############################################################################\n",
    "   \n",
    "    fc_out, fc_cache = fc_forward(X, W, b)\n",
    "    relu_out, relu_cache = relu_forward(fc_out)\n",
    "    out = relu_out\n",
    "\n",
    "    #############################################################################\n",
    "    #                             END OF YOUR CODE                              #\n",
    "    #############################################################################\n",
    "    cache = (fc_cache, relu_cache)\n",
    "    return out, cache\n",
    "\n",
    "\n",
    "def fc_relu_backward(dout, cache):\n",
    "    \"\"\"\n",
    "    Backward pass for a fully connected layer followed by a ReLU\n",
    "    Inputs:\n",
    "    - dout: upstream derivatives\n",
    "    - cache: parameters calculated during the forward pass\n",
    "\n",
    "    Returns:\n",
    "    - dX: derivative w.r.t X\n",
    "    - dW: derivative w.r.t W\n",
    "    - db: derivative w.r.t b\n",
    "    \"\"\"\n",
    "    fc_cache, relu_cache = cache\n",
    "    #############################################################################\n",
    "    # TODO: Implement the function.                                             #\n",
    "    #############################################################################\n",
    "    \n",
    "    drelu = relu_backward(dout, relu_cache)\n",
    "    dx, dw, db = fc_backward(drelu, fc_cache)\n",
    "\n",
    "    #############################################################################\n",
    "    #                             END OF YOUR CODE                              #\n",
    "    #############################################################################\n",
    "    return dx, dw, db"
   ]
  },
  {
   "cell_type": "markdown",
   "metadata": {
    "id": "2RNFsQVGrFUE"
   },
   "source": [
    "You can check your results in the next cell:"
   ]
  },
  {
   "cell_type": "code",
   "execution_count": 19,
   "metadata": {
    "ExecuteTime": {
     "end_time": "2022-11-28T06:46:21.357151Z",
     "start_time": "2022-11-28T06:46:21.343147Z"
    },
    "id": "wfsIy8dEqx7r"
   },
   "outputs": [],
   "source": [
    "np.random.seed(42)\n",
    "x = np.random.randn(10, 2, 3)\n",
    "w = np.random.randn(6, 5)\n",
    "b = np.random.randn(5)\n",
    "dout = np.random.randn(10, 5)\n",
    "\n",
    "dx_num = eval_numerical_gradient_array(lambda x: fc_relu_forward(x, w, b)[0], x, dout)\n",
    "dw_num = eval_numerical_gradient_array(lambda w: fc_relu_forward(x, w, b)[0], w, dout)\n",
    "db_num = eval_numerical_gradient_array(lambda b: fc_relu_forward(x, w, b)[0], b, dout)\n",
    "\n",
    "out, cache = fc_relu_forward(x,w,b)\n",
    "dx, dw, db = fc_relu_backward(dout, cache)\n",
    "\n",
    "assert np.isclose(dw, dw_num, rtol=1e-8).all() # simple test\n",
    "assert np.isclose(dx, dx_num, rtol=1e-8).all() # simple test\n",
    "assert np.isclose(db, db_num, rtol=1e-8).all() # simple test"
   ]
  },
  {
   "cell_type": "markdown",
   "metadata": {
    "id": "eHYeDvNcPwdV"
   },
   "source": [
    "# Building the Network\n",
    "\n"
   ]
  },
  {
   "cell_type": "markdown",
   "metadata": {
    "id": "B7-k0EkePwdV"
   },
   "source": [
    "Complete the class `ThreeLayerNet`. **(35 Points)**"
   ]
  },
  {
   "cell_type": "code",
   "execution_count": 20,
   "metadata": {
    "ExecuteTime": {
     "end_time": "2022-11-28T06:46:21.388140Z",
     "start_time": "2022-11-28T06:46:21.358811Z"
    },
    "id": "883fce5uWDVl"
   },
   "outputs": [],
   "source": [
    "class ThreeLayerNet(object):\n",
    "    \"\"\"\n",
    "    A three-layer fully-connected neural network. This network has an input dimension of\n",
    "    N, a hidden layer dimension of H, and performs classification over C classes.\n",
    "    In our case, we use the same hidden dimension across all hidden layers.\n",
    "    We train the network with a softmax loss function and L2 regularization on the\n",
    "    weight matrices. In other words, the network has the following architecture:\n",
    "\n",
    "    input - fc layer - ReLU - fc layer - ReLu - fc layer - softmax\n",
    "\n",
    "    The outputs of the third fully-connected layer are the scores for each class.\n",
    "    \"\"\"\n",
    "\n",
    "    def __init__(self, input_size, hidden_size, output_size, std=1e-2):\n",
    "        \"\"\"\n",
    "        Initialize the model. Weights are initialized to small random values and\n",
    "        biases are initialized to zero. Weights and biases are stored in the\n",
    "        variable self.params, which is a dictionary with the following keys:\n",
    "\n",
    "        W1: First layer weights; has shape (D, H)\n",
    "        b1: First layer biases; has shape (H,)\n",
    "        W2: Second layer weights; has shape (H, H)\n",
    "        b2: Second layer biases; has shape (H,)\n",
    "        W3: Second layer weights; has shape (H, C)\n",
    "        b3: Second layer biases; has shape (C,)\n",
    "\n",
    "        Inputs:\n",
    "        - input_size: The dimension D of the input data.\n",
    "        - hidden_size: The number of neurons H in each of the hidden layers.\n",
    "        - output_size: The number of classes C.\n",
    "        \"\"\"\n",
    "        self.params = {}\n",
    "        self.params['W1'] = std * np.random.randn(input_size, hidden_size)\n",
    "        self.params['b1'] = np.zeros(hidden_size)\n",
    "        self.params['W2'] = std * np.random.randn(hidden_size, hidden_size)\n",
    "        self.params['b2'] = np.zeros(hidden_size)\n",
    "        self.params['W3'] = std * np.random.randn(hidden_size, output_size)\n",
    "        self.params['b3'] = np.zeros(output_size)\n",
    "\n",
    "    def step(self, X, y=None, reg=0.0):\n",
    "        \"\"\"\n",
    "        Compute the loss and gradients for a three layer fully connected neural\n",
    "        network.\n",
    "\n",
    "        Inputs:\n",
    "        - X: Input data of shape (N, D). Each X[i] is a training sample.\n",
    "        - y: Vector of training labels. This parameter is optional; if it\n",
    "          is not passed then we only return scores, and if it is passed then we\n",
    "          instead return the loss and gradients.\n",
    "        - reg: Regularization coefficient.\n",
    "\n",
    "        Returns:\n",
    "        If y is None, return a matrix scores of shape (N, C) where scores[i, c] is\n",
    "        the score for class c on input X[i].\n",
    "\n",
    "        If y is not None, instead return a tuple of:\n",
    "        - loss: Loss (data loss and regularization loss) for this batch of training\n",
    "          samples.\n",
    "        - grads: Dictionary mapping parameter names to gradients of those parameters\n",
    "          with respect to the loss function; has the same keys as self.params.\n",
    "        \"\"\"\n",
    "        # Unpack variables from the params dictionary\n",
    "        W1, b1 = self.params['W1'], self.params['b1']\n",
    "        W2, b2 = self.params['W2'], self.params['b2']\n",
    "        W3, b3 = self.params['W3'], self.params['b3'] \n",
    "\n",
    "        # Compute the forward pass\n",
    "        scores = None\n",
    "        #############################################################################\n",
    "        # TODO: Perform the forward pass, computing the class scores for the input. #\n",
    "        # Store the result in the scores variable, which should be an array of      #\n",
    "        # shape (N, C).                                                             #\n",
    "        #############################################################################\n",
    "      \n",
    "        h1 ,cache1 = fc_relu_forward(X, W1, b1)\n",
    "        h2, cache2 = fc_relu_forward(h1, W2, b2)\n",
    "        scores, cache3 = fc_forward(h2, W3, b3)\n",
    "        # Compute the softmax scores\n",
    "        #scores = np.exp(h3)/np.sum(np.exp(h3), axis=1, keepdims=True)\n",
    "                \n",
    "        #############################################################################\n",
    "        #                              END OF YOUR CODE                             #\n",
    "        #############################################################################\n",
    "\n",
    "        # If the targets are not given then jump out, we're done\n",
    "        if y is None:\n",
    "            return scores\n",
    "\n",
    "        # Compute the loss\n",
    "        loss = None\n",
    "        ###############################################################################\n",
    "        # After you finished the forward pass, compute the loss. This should include  #\n",
    "        # both the data loss and L2 regularization for W1, W2, W3. Store the result   #\n",
    "        # in the variable loss, which should be a scalar. Use the softmax_loss        #\n",
    "        # and l2_regulariztion_loss functions you implemented.                        #         \n",
    "        ###############################################################################\n",
    "        loss, dscores = softmax_loss(scores, y)\n",
    "        reg_loss_1, dw1_reg = l2_regulariztion_loss(W1, reg)\n",
    "        reg_loss_2, dw2_reg = l2_regulariztion_loss(W2, reg)\n",
    "        reg_loss_3, dw3_reg = l2_regulariztion_loss(W3, reg)\n",
    "        \n",
    "        loss += reg_loss_1 + reg_loss_2 + reg_loss_3\n",
    "        \n",
    "        #############################################################################\n",
    "        #                              END OF YOUR CODE                             #\n",
    "        #############################################################################\n",
    "\n",
    "        # Backward pass: compute gradients\n",
    "        grads = {}\n",
    "        #############################################################################\n",
    "        # TODO: Compute the backward pass, computing the derivatives of the weights #\n",
    "        # and biases. Store the results in the grads dictionary. For example,       #\n",
    "        # grads['W1'] = dW1 + dW1_reg, it stores the gradient on W1, including      #\n",
    "        # regularization. It should be a matrix of the same size.                   #\n",
    "        #############################################################################\n",
    "        dscores2, dw3, db3 = fc_backward(dscores, cache3)\n",
    "        dscores1, dw2, db2 = fc_relu_backward(dscores2, cache2)\n",
    "        dx, dw1, db1 = fc_relu_backward(dscores1, cache1)\n",
    "        \n",
    "        grads[\"W1\"] = dw1 + dw1_reg\n",
    "        grads[\"W2\"] = dw2 + dw2_reg\n",
    "        grads[\"W3\"] = dw3 + dw3_reg\n",
    "        grads[\"b1\"] = db1\n",
    "        grads[\"b2\"] = db2\n",
    "        grads[\"b3\"] = db3\n",
    "        \n",
    "        #############################################################################\n",
    "        #                              END OF YOUR CODE                             #\n",
    "        #############################################################################\n",
    "        return loss, grads\n",
    "\n",
    "    def train(self, X, y, X_val, y_val,\n",
    "              learning_rate=1e-3, reg=1e-5, num_iters=100,\n",
    "              batch_size=200, verbose=False):\n",
    "        \"\"\"\n",
    "        Train this neural network using stochastic gradient descent.\n",
    "\n",
    "        Inputs:\n",
    "        - X: A numpy array of shape (N, D) giving training data.\n",
    "        - y: A numpy array f shape (N,) giving training label.\n",
    "        - X_val: A numpy array of shape (N_val, D) giving validation data.\n",
    "        - y_val: A numpy array of shape (N_val,) giving validation labels.\n",
    "        - learning_rate: Scalar giving learning rate for optimization.\n",
    "        - reg: Scalar giving regularization strength.\n",
    "        - num_iters: Number of steps to take when optimizing.\n",
    "        - batch_size: Number of training examples to use per step.\n",
    "        - verbose: boolean; if true print progress during optimization.\n",
    "        \"\"\"\n",
    "        num_train = X.shape[0]\n",
    "        iterations_per_epoch = max(num_train / batch_size, 1)\n",
    "\n",
    "        # Use SGD to optimize the parameters in self.model\n",
    "        loss_history = []\n",
    "        train_acc_history = []\n",
    "        val_acc_history = []\n",
    "\n",
    "        for it in range(num_iters):\n",
    "            X_batch = None\n",
    "            y_batch = None\n",
    "            #########################################################################\n",
    "            # TODO: Create a random minibatch of training data and labels, storing  #\n",
    "            # them in X_batch and y_batch respectively.                             #\n",
    "            #########################################################################\n",
    "            batch_elements = np.random.choice(num_train, size=batch_size, replace = True)\n",
    "            X_batch = X[batch_elements]\n",
    "            y_batch = y[batch_elements]\n",
    "            \n",
    "            \n",
    "            #########################################################################\n",
    "            #                             END OF YOUR CODE                          #\n",
    "            #########################################################################\n",
    "\n",
    "            # Compute loss and gradients using the current minibatch\n",
    "            loss, grads = self.step(X_batch, y=y_batch, reg=reg)\n",
    "            loss_history.append(loss)\n",
    "            #########################################################################\n",
    "            # TODO: Use the gradients in the grads dictionary to update the         #\n",
    "            # parameters of the network (stored in the dictionary self.params)      #\n",
    "            # using stochastic gradient descent. You'll need to use the gradients   #\n",
    "            # stored in the grads dictionary defined above.                         #\n",
    "            #########################################################################\n",
    "            self.params['W1'] -= learning_rate*grads[\"W1\"]\n",
    "            self.params['W2'] -= learning_rate*grads[\"W2\"]\n",
    "            self.params['W3'] -= learning_rate*grads[\"W3\"]\n",
    "\n",
    "            self.params['b1'] -= learning_rate*grads[\"b1\"]\n",
    "            self.params['b2'] -= learning_rate*grads[\"b2\"]\n",
    "            self.params['b3'] -= learning_rate*grads[\"b3\"]\n",
    "\n",
    "\n",
    "            #########################################################################\n",
    "            #                             END OF YOUR CODE                          #\n",
    "            #########################################################################\n",
    "\n",
    "            if verbose and (it+1) % 100 == 0:\n",
    "                print ('iteration %d / %d: loss %f' % (it+1, num_iters, loss))\n",
    "\n",
    "            # Every epoch, check train and val accuracy.\n",
    "            if it % iterations_per_epoch == 0:\n",
    "                train_acc = (self.predict(X_batch) == y_batch).mean()\n",
    "                val_acc = (self.predict(X_val) == y_val).mean()\n",
    "                train_acc_history.append(train_acc)\n",
    "                val_acc_history.append(val_acc)\n",
    "\n",
    "        return {\n",
    "          'loss_history': loss_history,\n",
    "          'train_acc_history': train_acc_history,\n",
    "          'val_acc_history': val_acc_history,\n",
    "        }\n",
    "\n",
    "    def predict(self, X):\n",
    "        \"\"\"\n",
    "        Use the trained weights of this three-layer network to predict labels for\n",
    "        data points. For each data point we predict scores for each of the C\n",
    "        classes, and assign each data point to the class with the highest score.\n",
    "\n",
    "        Inputs:\n",
    "        - X: data points to classify.\n",
    "\n",
    "        Returns:\n",
    "        - y_pred: predicted labels\n",
    "        \"\"\"\n",
    "        y_pred = None\n",
    "        # Unpack variables from the params dictionary\n",
    "        W1, b1 = self.params['W1'], self.params['b1']\n",
    "        W2, b2 = self.params['W2'], self.params['b2']\n",
    "        W3, b3 = self.params['W3'], self.params['b3'] \n",
    "\n",
    "        ###########################################################################\n",
    "        # TODO: Implement this function                                           #\n",
    "        ###########################################################################\n",
    "\n",
    "        score_1 = fc_relu_forward(X, W1, b1)[0]\n",
    "        score_2 = fc_relu_forward(score_1, W2, b2)[0]\n",
    "        score_3 = fc_forward(score_2, W3, b3)[0]\n",
    "        y_pred = np.argmax(score_3,axis=1)   \n",
    "                \n",
    "        ###########################################################################\n",
    "        #                              END OF YOUR CODE                           #\n",
    "        ###########################################################################\n",
    "        return y_pred"
   ]
  },
  {
   "cell_type": "code",
   "execution_count": 21,
   "metadata": {
    "ExecuteTime": {
     "end_time": "2022-11-28T06:46:21.403237Z",
     "start_time": "2022-11-28T06:46:21.390103Z"
    },
    "id": "i6KXQ1KvPwdV"
   },
   "outputs": [],
   "source": [
    "input_size = 32 * 32 * 3\n",
    "hidden_size = 128\n",
    "num_classes = 4\n",
    "model = ThreeLayerNet(input_size, hidden_size, num_classes)"
   ]
  },
  {
   "cell_type": "code",
   "execution_count": 22,
   "metadata": {
    "ExecuteTime": {
     "end_time": "2022-11-28T06:47:07.708024Z",
     "start_time": "2022-11-28T06:46:21.405440Z"
    },
    "id": "XbUwlaa9PwdV"
   },
   "outputs": [
    {
     "name": "stdout",
     "output_type": "stream",
     "text": [
      "iteration 100 / 1500: loss 1.084206\n",
      "iteration 200 / 1500: loss 1.004476\n",
      "iteration 300 / 1500: loss 0.900380\n",
      "iteration 400 / 1500: loss 0.825731\n",
      "iteration 500 / 1500: loss 0.857723\n",
      "iteration 600 / 1500: loss 0.719607\n",
      "iteration 700 / 1500: loss 0.754655\n",
      "iteration 800 / 1500: loss 0.759193\n",
      "iteration 900 / 1500: loss 0.672972\n",
      "iteration 1000 / 1500: loss 0.658957\n",
      "iteration 1100 / 1500: loss 0.763658\n",
      "iteration 1200 / 1500: loss 0.724688\n",
      "iteration 1300 / 1500: loss 0.629747\n",
      "iteration 1400 / 1500: loss 0.711940\n",
      "iteration 1500 / 1500: loss 0.669238\n"
     ]
    }
   ],
   "source": [
    "stats = model.train(X_train, y_train, X_val, y_val,\n",
    "            num_iters=1500, batch_size=200,\n",
    "            learning_rate=1e-3, reg=0, verbose=True)"
   ]
  },
  {
   "cell_type": "code",
   "execution_count": 23,
   "metadata": {
    "ExecuteTime": {
     "end_time": "2022-11-28T06:47:07.754799Z",
     "start_time": "2022-11-28T06:47:07.711049Z"
    },
    "id": "-1hDhsb1PwdV"
   },
   "outputs": [
    {
     "name": "stdout",
     "output_type": "stream",
     "text": [
      "Validation accuracy:  0.703\n"
     ]
    }
   ],
   "source": [
    "val_acc = (model.predict(X_val) == y_val).mean()\n",
    "print ('Validation accuracy: ', val_acc)"
   ]
  },
  {
   "cell_type": "code",
   "execution_count": 24,
   "metadata": {
    "ExecuteTime": {
     "end_time": "2022-11-28T06:47:08.208742Z",
     "start_time": "2022-11-28T06:47:07.756434Z"
    },
    "id": "VdhExUOrKcc6"
   },
   "outputs": [
    {
     "name": "stdout",
     "output_type": "stream",
     "text": [
      "Training accuracy:  0.7445\n"
     ]
    }
   ],
   "source": [
    "train_acc = (model.predict(X_train) == y_train).mean()\n",
    "print ('Training accuracy: ', train_acc)"
   ]
  },
  {
   "cell_type": "code",
   "execution_count": 25,
   "metadata": {
    "ExecuteTime": {
     "end_time": "2022-11-28T06:47:08.619195Z",
     "start_time": "2022-11-28T06:47:08.210823Z"
    },
    "id": "F-9rpmQAPwdW"
   },
   "outputs": [
    {
     "data": {
      "image/png": "[encoded data removed]",
      "text/plain": [
       "<Figure size 1200x1200 with 2 Axes>"
      ]
     },
     "metadata": {},
     "output_type": "display_data"
    }
   ],
   "source": [
    "# Plot the loss function and train / validation accuracies\n",
    "plt.subplot(2, 1, 1)\n",
    "plt.plot(stats['loss_history'])\n",
    "plt.title('Loss history')\n",
    "plt.xlabel('Iteration')\n",
    "plt.ylabel('Loss')\n",
    "\n",
    "plt.subplot(2, 1, 2)\n",
    "plt.plot(stats['train_acc_history'], label='train')\n",
    "plt.plot(stats['val_acc_history'], label='val')\n",
    "plt.title('Classification accuracy history')\n",
    "plt.xlabel('Epoch')\n",
    "plt.ylabel('Clasification accuracy')\n",
    "plt.show()"
   ]
  },
  {
   "cell_type": "markdown",
   "metadata": {
    "id": "Okkhr5xjPwdW"
   },
   "source": [
    "## Hyperparameter Optimization\n",
    "Use the validation set to tune hyperparameters by training different models (using the training dataset) and evaluating the performance using the validation dataset. Save the results in a dictionary mapping tuples of the form `(learning_rate, hidden_size, regularization)` to tuples of the form `(training_accuracy, validation_accuracy)`. You should evaluate the best model on the testing dataset and print out the training, validation and testing accuracies for each of the models and provide a clear visualization. Highlight the best model w.r.t the testing accuracy. **(10 Points)**"
   ]
  },
  {
   "cell_type": "code",
   "execution_count": 26,
   "metadata": {
    "ExecuteTime": {
     "end_time": "2022-11-28T07:02:08.693145Z",
     "start_time": "2022-11-28T06:47:08.623196Z"
    },
    "id": "WU33Q_kwPwdW"
   },
   "outputs": [
    {
     "name": "stdout",
     "output_type": "stream",
     "text": [
      "iteration 100 / 1500: loss 1.339646\n",
      "iteration 200 / 1500: loss 1.291167\n",
      "iteration 300 / 1500: loss 1.292602\n",
      "iteration 400 / 1500: loss 1.201612\n",
      "iteration 500 / 1500: loss 1.251922\n",
      "iteration 600 / 1500: loss 1.202688\n",
      "iteration 700 / 1500: loss 1.161957\n",
      "iteration 800 / 1500: loss 1.167116\n",
      "iteration 900 / 1500: loss 1.162911\n",
      "iteration 1000 / 1500: loss 1.134660\n",
      "iteration 1100 / 1500: loss 1.141684\n",
      "iteration 1200 / 1500: loss 1.212925\n",
      "iteration 1300 / 1500: loss 1.089073\n",
      "iteration 1400 / 1500: loss 1.069671\n",
      "iteration 1500 / 1500: loss 1.025734\n",
      "iteration 100 / 1500: loss 1.350005\n",
      "iteration 200 / 1500: loss 1.315630\n",
      "iteration 300 / 1500: loss 1.290314\n",
      "iteration 400 / 1500: loss 1.258433\n",
      "iteration 500 / 1500: loss 1.212005\n",
      "iteration 600 / 1500: loss 1.243373\n",
      "iteration 700 / 1500: loss 1.176485\n",
      "iteration 800 / 1500: loss 1.129191\n",
      "iteration 900 / 1500: loss 1.149481\n",
      "iteration 1000 / 1500: loss 1.160293\n",
      "iteration 1100 / 1500: loss 1.065428\n",
      "iteration 1200 / 1500: loss 1.074781\n",
      "iteration 1300 / 1500: loss 1.097113\n",
      "iteration 1400 / 1500: loss 1.050150\n",
      "iteration 1500 / 1500: loss 1.078712\n",
      "iteration 100 / 1500: loss 3.396786\n",
      "iteration 200 / 1500: loss 3.355721\n",
      "iteration 300 / 1500: loss 3.331399\n",
      "iteration 400 / 1500: loss 3.262351\n",
      "iteration 500 / 1500: loss 3.255667\n",
      "iteration 600 / 1500: loss 3.195464\n",
      "iteration 700 / 1500: loss 3.201569\n",
      "iteration 800 / 1500: loss 3.249127\n",
      "iteration 900 / 1500: loss 3.105048\n",
      "iteration 1000 / 1500: loss 3.123588\n",
      "iteration 1100 / 1500: loss 3.123992\n",
      "iteration 1200 / 1500: loss 3.071156\n",
      "iteration 1300 / 1500: loss 3.087228\n",
      "iteration 1400 / 1500: loss 3.068384\n",
      "iteration 1500 / 1500: loss 3.028884\n",
      "iteration 100 / 1500: loss 6.445190\n",
      "iteration 200 / 1500: loss 6.358775\n",
      "iteration 300 / 1500: loss 6.299430\n",
      "iteration 400 / 1500: loss 6.239610\n",
      "iteration 500 / 1500: loss 6.189371\n",
      "iteration 600 / 1500: loss 6.148446\n",
      "iteration 700 / 1500: loss 6.120609\n",
      "iteration 800 / 1500: loss 6.053261\n",
      "iteration 900 / 1500: loss 6.074708\n",
      "iteration 1000 / 1500: loss 5.947829\n",
      "iteration 1100 / 1500: loss 5.960699\n",
      "iteration 1200 / 1500: loss 5.951081\n",
      "iteration 1300 / 1500: loss 5.930140\n",
      "iteration 1400 / 1500: loss 5.895343\n",
      "iteration 1500 / 1500: loss 5.788600\n",
      "iteration 100 / 1500: loss 1.334163\n",
      "iteration 200 / 1500: loss 1.269667\n",
      "iteration 300 / 1500: loss 1.239818\n",
      "iteration 400 / 1500: loss 1.262624\n",
      "iteration 500 / 1500: loss 1.248622\n",
      "iteration 600 / 1500: loss 1.171438\n",
      "iteration 700 / 1500: loss 1.129342\n",
      "iteration 800 / 1500: loss 1.118925\n",
      "iteration 900 / 1500: loss 1.095784\n",
      "iteration 1000 / 1500: loss 1.041548\n",
      "iteration 1100 / 1500: loss 1.046600\n",
      "iteration 1200 / 1500: loss 0.974780\n",
      "iteration 1300 / 1500: loss 1.054465\n",
      "iteration 1400 / 1500: loss 1.068310\n",
      "iteration 1500 / 1500: loss 1.075847\n",
      "iteration 100 / 1500: loss 1.351316\n",
      "iteration 200 / 1500: loss 1.319755\n",
      "iteration 300 / 1500: loss 1.264627\n",
      "iteration 400 / 1500: loss 1.249776\n",
      "iteration 500 / 1500: loss 1.189878\n",
      "iteration 600 / 1500: loss 1.213947\n",
      "iteration 700 / 1500: loss 1.151859\n",
      "iteration 800 / 1500: loss 1.165717\n",
      "iteration 900 / 1500: loss 1.138219\n",
      "iteration 1000 / 1500: loss 1.133148\n",
      "iteration 1100 / 1500: loss 1.090080\n",
      "iteration 1200 / 1500: loss 1.112964\n",
      "iteration 1300 / 1500: loss 1.082068\n",
      "iteration 1400 / 1500: loss 1.167323\n",
      "iteration 1500 / 1500: loss 1.031330\n",
      "iteration 100 / 1500: loss 3.353896\n",
      "iteration 200 / 1500: loss 3.259850\n",
      "iteration 300 / 1500: loss 3.252527\n",
      "iteration 400 / 1500: loss 3.245783\n",
      "iteration 500 / 1500: loss 3.213653\n",
      "iteration 600 / 1500: loss 3.173711\n",
      "iteration 700 / 1500: loss 3.212599\n",
      "iteration 800 / 1500: loss 3.084187\n",
      "iteration 900 / 1500: loss 3.064601\n",
      "iteration 1000 / 1500: loss 3.025019\n",
      "iteration 1100 / 1500: loss 3.103938\n",
      "iteration 1200 / 1500: loss 3.016564\n",
      "iteration 1300 / 1500: loss 3.082687\n",
      "iteration 1400 / 1500: loss 2.963217\n",
      "iteration 1500 / 1500: loss 2.998547\n",
      "iteration 100 / 1500: loss 6.429090\n",
      "iteration 200 / 1500: loss 6.364019\n",
      "iteration 300 / 1500: loss 6.294953\n",
      "iteration 400 / 1500: loss 6.310703\n",
      "iteration 500 / 1500: loss 6.216611\n",
      "iteration 600 / 1500: loss 6.154148\n",
      "iteration 700 / 1500: loss 6.119420\n",
      "iteration 800 / 1500: loss 6.046313\n",
      "iteration 900 / 1500: loss 6.004530\n",
      "iteration 1000 / 1500: loss 6.005123\n",
      "iteration 1100 / 1500: loss 5.968183\n",
      "iteration 1200 / 1500: loss 5.928874\n",
      "iteration 1300 / 1500: loss 5.901897\n",
      "iteration 1400 / 1500: loss 5.913002\n",
      "iteration 1500 / 1500: loss 5.851091\n",
      "iteration 100 / 1500: loss 1.306046\n",
      "iteration 200 / 1500: loss 1.259181\n",
      "iteration 300 / 1500: loss 1.233400\n",
      "iteration 400 / 1500: loss 1.183050\n",
      "iteration 500 / 1500: loss 1.204584\n",
      "iteration 600 / 1500: loss 1.153228\n",
      "iteration 700 / 1500: loss 1.129923\n",
      "iteration 800 / 1500: loss 1.076101\n",
      "iteration 900 / 1500: loss 1.176713\n",
      "iteration 1000 / 1500: loss 1.039911\n",
      "iteration 1100 / 1500: loss 1.094683\n",
      "iteration 1200 / 1500: loss 1.069232\n",
      "iteration 1300 / 1500: loss 1.010794\n",
      "iteration 1400 / 1500: loss 0.941003\n",
      "iteration 1500 / 1500: loss 1.072181\n",
      "iteration 100 / 1500: loss 1.365540\n",
      "iteration 200 / 1500: loss 1.328255\n",
      "iteration 300 / 1500: loss 1.260422\n",
      "iteration 400 / 1500: loss 1.291504\n",
      "iteration 500 / 1500: loss 1.247237\n",
      "iteration 600 / 1500: loss 1.233674\n",
      "iteration 700 / 1500: loss 1.220024\n",
      "iteration 800 / 1500: loss 1.235358\n",
      "iteration 900 / 1500: loss 1.202181\n",
      "iteration 1000 / 1500: loss 1.125766\n",
      "iteration 1100 / 1500: loss 1.094421\n",
      "iteration 1200 / 1500: loss 1.093157\n",
      "iteration 1300 / 1500: loss 1.110149\n",
      "iteration 1400 / 1500: loss 1.124721\n",
      "iteration 1500 / 1500: loss 1.090863\n",
      "iteration 100 / 1500: loss 3.385162\n",
      "iteration 200 / 1500: loss 3.304397\n",
      "iteration 300 / 1500: loss 3.312648\n",
      "iteration 400 / 1500: loss 3.275862\n",
      "iteration 500 / 1500: loss 3.216987\n",
      "iteration 600 / 1500: loss 3.232653\n",
      "iteration 700 / 1500: loss 3.259630\n",
      "iteration 800 / 1500: loss 3.173385\n",
      "iteration 900 / 1500: loss 3.135371\n",
      "iteration 1000 / 1500: loss 3.123660\n",
      "iteration 1100 / 1500: loss 3.168209\n",
      "iteration 1200 / 1500: loss 3.059145\n",
      "iteration 1300 / 1500: loss 3.030012\n",
      "iteration 1400 / 1500: loss 3.060221\n",
      "iteration 1500 / 1500: loss 3.122788\n",
      "iteration 100 / 1500: loss 6.461892\n",
      "iteration 200 / 1500: loss 6.373138\n",
      "iteration 300 / 1500: loss 6.311249\n",
      "iteration 400 / 1500: loss 6.292460\n",
      "iteration 500 / 1500: loss 6.222908\n",
      "iteration 600 / 1500: loss 6.171345\n",
      "iteration 700 / 1500: loss 6.120777\n",
      "iteration 800 / 1500: loss 6.082328\n",
      "iteration 900 / 1500: loss 6.038733\n",
      "iteration 1000 / 1500: loss 5.946552\n",
      "iteration 1100 / 1500: loss 5.952443\n",
      "iteration 1200 / 1500: loss 5.994164\n",
      "iteration 1300 / 1500: loss 5.926531\n",
      "iteration 1400 / 1500: loss 5.859296\n",
      "iteration 1500 / 1500: loss 5.800678\n",
      "iteration 100 / 1500: loss 1.364233\n",
      "iteration 200 / 1500: loss 1.314081\n",
      "iteration 300 / 1500: loss 1.262357\n",
      "iteration 400 / 1500: loss 1.250331\n",
      "iteration 500 / 1500: loss 1.211289\n",
      "iteration 600 / 1500: loss 1.192228\n",
      "iteration 700 / 1500: loss 1.193925\n",
      "iteration 800 / 1500: loss 1.084151\n",
      "iteration 900 / 1500: loss 1.116363\n",
      "iteration 1000 / 1500: loss 1.082188\n",
      "iteration 1100 / 1500: loss 1.027069\n",
      "iteration 1200 / 1500: loss 1.028118\n",
      "iteration 1300 / 1500: loss 1.045901\n",
      "iteration 1400 / 1500: loss 1.023716\n",
      "iteration 1500 / 1500: loss 1.078198\n",
      "iteration 100 / 1500: loss 1.384502\n",
      "iteration 200 / 1500: loss 1.343521\n",
      "iteration 300 / 1500: loss 1.296150\n",
      "iteration 400 / 1500: loss 1.194807\n",
      "iteration 500 / 1500: loss 1.245327\n",
      "iteration 600 / 1500: loss 1.186243\n",
      "iteration 700 / 1500: loss 1.154029\n",
      "iteration 800 / 1500: loss 1.170330\n",
      "iteration 900 / 1500: loss 1.137208\n",
      "iteration 1000 / 1500: loss 1.071076\n",
      "iteration 1100 / 1500: loss 1.061954\n",
      "iteration 1200 / 1500: loss 1.032786\n",
      "iteration 1300 / 1500: loss 1.057909\n",
      "iteration 1400 / 1500: loss 1.059442\n",
      "iteration 1500 / 1500: loss 1.066367\n",
      "iteration 100 / 1500: loss 3.399245\n",
      "iteration 200 / 1500: loss 3.377067\n",
      "iteration 300 / 1500: loss 3.333034\n",
      "iteration 400 / 1500: loss 3.304004\n",
      "iteration 500 / 1500: loss 3.244287\n",
      "iteration 600 / 1500: loss 3.216970\n",
      "iteration 700 / 1500: loss 3.201207\n",
      "iteration 800 / 1500: loss 3.194038\n",
      "iteration 900 / 1500: loss 3.183363\n",
      "iteration 1000 / 1500: loss 3.109151\n",
      "iteration 1100 / 1500: loss 3.128164\n",
      "iteration 1200 / 1500: loss 3.162214\n",
      "iteration 1300 / 1500: loss 3.094523\n",
      "iteration 1400 / 1500: loss 3.055944\n",
      "iteration 1500 / 1500: loss 3.049713\n",
      "iteration 100 / 1500: loss 6.442469\n",
      "iteration 200 / 1500: loss 6.346518\n",
      "iteration 300 / 1500: loss 6.375835\n",
      "iteration 400 / 1500: loss 6.251250\n",
      "iteration 500 / 1500: loss 6.199257\n",
      "iteration 600 / 1500: loss 6.214138\n",
      "iteration 700 / 1500: loss 6.109639\n",
      "iteration 800 / 1500: loss 6.140995\n",
      "iteration 900 / 1500: loss 6.038605\n",
      "iteration 1000 / 1500: loss 6.000125\n",
      "iteration 1100 / 1500: loss 5.948325\n",
      "iteration 1200 / 1500: loss 5.962639\n",
      "iteration 1300 / 1500: loss 5.861864\n",
      "iteration 1400 / 1500: loss 5.784905\n",
      "iteration 1500 / 1500: loss 5.809418\n",
      "iteration 100 / 1500: loss 1.106230\n",
      "iteration 200 / 1500: loss 0.940175\n",
      "iteration 300 / 1500: loss 0.878125\n",
      "iteration 400 / 1500: loss 0.907184\n",
      "iteration 500 / 1500: loss 0.807384\n",
      "iteration 600 / 1500: loss 0.822065\n",
      "iteration 700 / 1500: loss 0.797287\n",
      "iteration 800 / 1500: loss 0.802402\n",
      "iteration 900 / 1500: loss 0.692800\n",
      "iteration 1000 / 1500: loss 0.729767\n",
      "iteration 1100 / 1500: loss 0.825344\n",
      "iteration 1200 / 1500: loss 0.707695\n",
      "iteration 1300 / 1500: loss 0.723701\n",
      "iteration 1400 / 1500: loss 0.731000\n",
      "iteration 1500 / 1500: loss 0.671861\n",
      "iteration 100 / 1500: loss 1.085500\n",
      "iteration 200 / 1500: loss 1.021110\n",
      "iteration 300 / 1500: loss 0.939518\n",
      "iteration 400 / 1500: loss 0.840669\n",
      "iteration 500 / 1500: loss 0.902387\n",
      "iteration 600 / 1500: loss 0.809131\n",
      "iteration 700 / 1500: loss 0.626715\n",
      "iteration 800 / 1500: loss 0.719512\n",
      "iteration 900 / 1500: loss 0.789866\n",
      "iteration 1000 / 1500: loss 0.816620\n",
      "iteration 1100 / 1500: loss 0.813102\n",
      "iteration 1200 / 1500: loss 0.740290\n",
      "iteration 1300 / 1500: loss 0.686479\n",
      "iteration 1400 / 1500: loss 0.650063\n",
      "iteration 1500 / 1500: loss 0.696658\n",
      "iteration 100 / 1500: loss 3.103249\n",
      "iteration 200 / 1500: loss 3.043642\n",
      "iteration 300 / 1500: loss 2.838649\n",
      "iteration 400 / 1500: loss 2.695078\n",
      "iteration 500 / 1500: loss 2.656414\n",
      "iteration 600 / 1500: loss 2.617454\n",
      "iteration 700 / 1500: loss 2.553860\n",
      "iteration 800 / 1500: loss 2.496675\n",
      "iteration 900 / 1500: loss 2.598289\n",
      "iteration 1000 / 1500: loss 2.476465\n",
      "iteration 1100 / 1500: loss 2.375691\n",
      "iteration 1200 / 1500: loss 2.363712\n",
      "iteration 1300 / 1500: loss 2.298091\n",
      "iteration 1400 / 1500: loss 2.302398\n",
      "iteration 1500 / 1500: loss 2.102815\n",
      "iteration 100 / 1500: loss 5.945809\n",
      "iteration 200 / 1500: loss 5.744756\n",
      "iteration 300 / 1500: loss 5.298303\n",
      "iteration 400 / 1500: loss 5.121915\n",
      "iteration 500 / 1500: loss 4.934877\n",
      "iteration 600 / 1500: loss 4.593557\n",
      "iteration 700 / 1500: loss 4.413662\n",
      "iteration 800 / 1500: loss 4.344016\n",
      "iteration 900 / 1500: loss 4.145543\n",
      "iteration 1000 / 1500: loss 3.961485\n",
      "iteration 1100 / 1500: loss 3.701651\n",
      "iteration 1200 / 1500: loss 3.577729\n",
      "iteration 1300 / 1500: loss 3.487529\n",
      "iteration 1400 / 1500: loss 3.342733\n",
      "iteration 1500 / 1500: loss 3.187536\n",
      "iteration 100 / 1500: loss 1.153092\n",
      "iteration 200 / 1500: loss 0.950290\n",
      "iteration 300 / 1500: loss 0.908667\n",
      "iteration 400 / 1500: loss 0.853608\n",
      "iteration 500 / 1500: loss 0.836518\n",
      "iteration 600 / 1500: loss 0.789164\n",
      "iteration 700 / 1500: loss 0.742980\n",
      "iteration 800 / 1500: loss 0.818407\n",
      "iteration 900 / 1500: loss 0.736993\n",
      "iteration 1000 / 1500: loss 0.783151\n",
      "iteration 1100 / 1500: loss 0.733694\n",
      "iteration 1200 / 1500: loss 0.655776\n",
      "iteration 1300 / 1500: loss 0.784904\n",
      "iteration 1400 / 1500: loss 0.657285\n",
      "iteration 1500 / 1500: loss 0.693244\n",
      "iteration 100 / 1500: loss 1.110277\n",
      "iteration 200 / 1500: loss 1.036088\n",
      "iteration 300 / 1500: loss 0.850726\n",
      "iteration 400 / 1500: loss 0.924842\n",
      "iteration 500 / 1500: loss 0.854947\n",
      "iteration 600 / 1500: loss 0.817969\n",
      "iteration 700 / 1500: loss 0.770180\n",
      "iteration 800 / 1500: loss 0.780898\n",
      "iteration 900 / 1500: loss 0.872361\n",
      "iteration 1000 / 1500: loss 0.801586\n",
      "iteration 1100 / 1500: loss 0.681588\n",
      "iteration 1200 / 1500: loss 0.764330\n",
      "iteration 1300 / 1500: loss 0.586957\n",
      "iteration 1400 / 1500: loss 0.613053\n",
      "iteration 1500 / 1500: loss 0.665604\n",
      "iteration 100 / 1500: loss 3.046615\n",
      "iteration 200 / 1500: loss 2.931434\n",
      "iteration 300 / 1500: loss 2.934602\n",
      "iteration 400 / 1500: loss 2.710923\n",
      "iteration 500 / 1500: loss 2.620291\n",
      "iteration 600 / 1500: loss 2.636213\n",
      "iteration 700 / 1500: loss 2.619390\n",
      "iteration 800 / 1500: loss 2.564727\n",
      "iteration 900 / 1500: loss 2.546329\n",
      "iteration 1000 / 1500: loss 2.432329\n",
      "iteration 1100 / 1500: loss 2.367654\n",
      "iteration 1200 / 1500: loss 2.295856\n",
      "iteration 1300 / 1500: loss 2.326859\n",
      "iteration 1400 / 1500: loss 2.240494\n",
      "iteration 1500 / 1500: loss 2.154080\n",
      "iteration 100 / 1500: loss 5.952901\n",
      "iteration 200 / 1500: loss 5.608072\n",
      "iteration 300 / 1500: loss 5.378312\n",
      "iteration 400 / 1500: loss 5.116862\n",
      "iteration 500 / 1500: loss 4.917114\n",
      "iteration 600 / 1500: loss 4.639079\n",
      "iteration 700 / 1500: loss 4.415164\n",
      "iteration 800 / 1500: loss 4.220394\n",
      "iteration 900 / 1500: loss 4.159877\n",
      "iteration 1000 / 1500: loss 3.977008\n",
      "iteration 1100 / 1500: loss 3.828842\n",
      "iteration 1200 / 1500: loss 3.540457\n",
      "iteration 1300 / 1500: loss 3.440223\n",
      "iteration 1400 / 1500: loss 3.350236\n",
      "iteration 1500 / 1500: loss 3.164822\n",
      "iteration 100 / 1500: loss 1.111496\n",
      "iteration 200 / 1500: loss 0.950231\n",
      "iteration 300 / 1500: loss 0.942528\n",
      "iteration 400 / 1500: loss 0.912393\n",
      "iteration 500 / 1500: loss 0.927800\n",
      "iteration 600 / 1500: loss 0.875957\n",
      "iteration 700 / 1500: loss 0.817790\n",
      "iteration 800 / 1500: loss 0.723211\n",
      "iteration 900 / 1500: loss 0.759493\n",
      "iteration 1000 / 1500: loss 0.720934\n",
      "iteration 1100 / 1500: loss 0.659064\n",
      "iteration 1200 / 1500: loss 0.610337\n",
      "iteration 1300 / 1500: loss 0.650622\n",
      "iteration 1400 / 1500: loss 0.669381\n",
      "iteration 1500 / 1500: loss 0.705438\n",
      "iteration 100 / 1500: loss 1.091991\n",
      "iteration 200 / 1500: loss 1.088563\n",
      "iteration 300 / 1500: loss 0.994302\n",
      "iteration 400 / 1500: loss 0.896854\n",
      "iteration 500 / 1500: loss 0.867991\n",
      "iteration 600 / 1500: loss 0.894954\n",
      "iteration 700 / 1500: loss 0.854094\n",
      "iteration 800 / 1500: loss 0.804903\n",
      "iteration 900 / 1500: loss 0.768105\n",
      "iteration 1000 / 1500: loss 0.794930\n",
      "iteration 1100 / 1500: loss 0.619396\n",
      "iteration 1200 / 1500: loss 0.745807\n",
      "iteration 1300 / 1500: loss 0.849639\n",
      "iteration 1400 / 1500: loss 0.783259\n",
      "iteration 1500 / 1500: loss 0.676377\n",
      "iteration 100 / 1500: loss 3.091333\n",
      "iteration 200 / 1500: loss 2.975557\n",
      "iteration 300 / 1500: loss 2.824640\n",
      "iteration 400 / 1500: loss 2.714476\n",
      "iteration 500 / 1500: loss 2.704268\n",
      "iteration 600 / 1500: loss 2.706293\n",
      "iteration 700 / 1500: loss 2.577297\n",
      "iteration 800 / 1500: loss 2.483240\n",
      "iteration 900 / 1500: loss 2.459216\n",
      "iteration 1000 / 1500: loss 2.397995\n",
      "iteration 1100 / 1500: loss 2.406010\n",
      "iteration 1200 / 1500: loss 2.361670\n",
      "iteration 1300 / 1500: loss 2.260975\n",
      "iteration 1400 / 1500: loss 2.253059\n",
      "iteration 1500 / 1500: loss 2.143501\n",
      "iteration 100 / 1500: loss 6.005743\n",
      "iteration 200 / 1500: loss 5.732819\n",
      "iteration 300 / 1500: loss 5.387353\n",
      "iteration 400 / 1500: loss 5.096916\n",
      "iteration 500 / 1500: loss 4.798157\n",
      "iteration 600 / 1500: loss 4.644426\n",
      "iteration 700 / 1500: loss 4.402052\n",
      "iteration 800 / 1500: loss 4.233501\n",
      "iteration 900 / 1500: loss 3.979096\n",
      "iteration 1000 / 1500: loss 3.927230\n",
      "iteration 1100 / 1500: loss 3.753911\n",
      "iteration 1200 / 1500: loss 3.772359\n",
      "iteration 1300 / 1500: loss 3.486986\n",
      "iteration 1400 / 1500: loss 3.402869\n",
      "iteration 1500 / 1500: loss 3.070351\n",
      "iteration 100 / 1500: loss 1.132282\n",
      "iteration 200 / 1500: loss 1.019940\n",
      "iteration 300 / 1500: loss 0.910644\n",
      "iteration 400 / 1500: loss 0.954626\n",
      "iteration 500 / 1500: loss 0.791042\n",
      "iteration 600 / 1500: loss 0.771295\n",
      "iteration 700 / 1500: loss 0.861895\n",
      "iteration 800 / 1500: loss 0.805530\n",
      "iteration 900 / 1500: loss 0.749312\n",
      "iteration 1000 / 1500: loss 0.677803\n",
      "iteration 1100 / 1500: loss 0.669901\n",
      "iteration 1200 / 1500: loss 0.698621\n",
      "iteration 1300 / 1500: loss 0.705013\n",
      "iteration 1400 / 1500: loss 0.648042\n",
      "iteration 1500 / 1500: loss 0.694146\n",
      "iteration 100 / 1500: loss 1.077446\n",
      "iteration 200 / 1500: loss 1.006339\n",
      "iteration 300 / 1500: loss 0.975201\n",
      "iteration 400 / 1500: loss 0.881111\n",
      "iteration 500 / 1500: loss 0.806794\n",
      "iteration 600 / 1500: loss 0.784484\n",
      "iteration 700 / 1500: loss 0.647135\n",
      "iteration 800 / 1500: loss 0.758125\n",
      "iteration 900 / 1500: loss 0.712129\n",
      "iteration 1000 / 1500: loss 0.850108\n",
      "iteration 1100 / 1500: loss 0.732459\n",
      "iteration 1200 / 1500: loss 0.733505\n",
      "iteration 1300 / 1500: loss 0.749616\n",
      "iteration 1400 / 1500: loss 0.749198\n",
      "iteration 1500 / 1500: loss 0.671262\n",
      "iteration 100 / 1500: loss 3.143503\n",
      "iteration 200 / 1500: loss 2.951846\n",
      "iteration 300 / 1500: loss 2.828557\n",
      "iteration 400 / 1500: loss 2.730332\n",
      "iteration 500 / 1500: loss 2.662965\n",
      "iteration 600 / 1500: loss 2.768310\n",
      "iteration 700 / 1500: loss 2.641264\n",
      "iteration 800 / 1500: loss 2.546336\n",
      "iteration 900 / 1500: loss 2.514040\n",
      "iteration 1000 / 1500: loss 2.420829\n",
      "iteration 1100 / 1500: loss 2.443166\n",
      "iteration 1200 / 1500: loss 2.295613\n",
      "iteration 1300 / 1500: loss 2.289151\n",
      "iteration 1400 / 1500: loss 2.322907\n",
      "iteration 1500 / 1500: loss 2.284647\n",
      "iteration 100 / 1500: loss 6.025308\n",
      "iteration 200 / 1500: loss 5.581063\n",
      "iteration 300 / 1500: loss 5.439747\n",
      "iteration 400 / 1500: loss 5.147561\n",
      "iteration 500 / 1500: loss 4.868008\n",
      "iteration 600 / 1500: loss 4.682113\n",
      "iteration 700 / 1500: loss 4.434874\n",
      "iteration 800 / 1500: loss 4.241341\n",
      "iteration 900 / 1500: loss 4.040703\n",
      "iteration 1000 / 1500: loss 3.830597\n",
      "iteration 1100 / 1500: loss 3.678317\n",
      "iteration 1200 / 1500: loss 3.567284\n",
      "iteration 1300 / 1500: loss 3.387526\n",
      "iteration 1400 / 1500: loss 3.294247\n",
      "iteration 1500 / 1500: loss 3.148707\n",
      "lr 1.000000e-03 hidden_size 128.000000 reg 0.250000 train accuracy: 0.740000 val accuracy: 0.719000\n",
      "best validation accuracy achieved during cross-validation: 0.719000\n",
      "Neural Network on raw pixels final test set accuracy: 0.723000\n"
     ]
    }
   ],
   "source": [
    "# This might take some time, try to expirement with small number of testing parameters before continuing\n",
    "# You are encouraged to experiment with additional values\n",
    "learning_rates = [1e-4, 1e-3]\n",
    "hidden_sizes = [32, 64, 128, 256]\n",
    "regularizations = [0, 0.001, 0.1, 0.25] \n",
    "\n",
    "results = {}\n",
    "best_val = -1   \n",
    "best_net = None \n",
    "################################################################################\n",
    "#                            START OF YOUR CODE                                #\n",
    "################################################################################\n",
    "\n",
    "for lr in learning_rates:\n",
    "    for hs in hidden_sizes:\n",
    "        for reg in regularizations:\n",
    "            model = ThreeLayerNet(input_size, hidden_size, num_classes)\n",
    "            stats = model.train(X_train, y_train, X_val, y_val, \n",
    "                    num_iters=1500, batch_size=200, learning_rate=lr, reg=reg, verbose=True)\n",
    "val_accuracy = (model.predict(X_val) == y_val).mean()\n",
    "results[(lr, hidden_size, reg)] = (stats['train_acc_history'][-1], val_accuracy)\n",
    "if val_accuracy > best_val:\n",
    "    best_val = val_accuracy\n",
    "    best_net = model\n",
    "\n",
    "################################################################################\n",
    "#                              END OF YOUR CODE                                #\n",
    "################################################################################\n",
    "\n",
    "# Print out results.\n",
    "for lr, hidden_size, reg  in sorted(results):\n",
    "    train_accuracy, val_accuracy = results[(lr, hidden_size, reg)]\n",
    "    print ('lr %e hidden_size %f reg %f train accuracy: %f val accuracy: %f' % (\n",
    "                lr, hidden_size, reg, train_accuracy, val_accuracy))\n",
    "    \n",
    "print ('best validation accuracy achieved during cross-validation: %f' % best_val)\n",
    "\n",
    "test_accuracy = (best_net.predict(X_test) == y_test).mean()\n",
    "print ('Neural Network on raw pixels final test set accuracy: %f' % test_accuracy)"
   ]
  },
  {
   "cell_type": "markdown",
   "metadata": {
    "id": "BkyH1MtdPwdW"
   },
   "source": [
    "# Question"
   ]
  },
  {
   "cell_type": "markdown",
   "metadata": {
    "id": "BkyH1MtdPwdW"
   },
   "source": [
    "##**Question:** \n",
    "What can you say about the training? Why does it take much longer to train (compare to hw1)? **(5 Points)**\n",
    "\n",
    "**Your answer:** In contrast to a simplistic single-layer network (in HW1), the expanded model now comprises multiple layers, each containing a greater number of neurons. Additionally, the introduction of a regularization term aims to enhance the model's robustness. While these enhancements offer increased modeling capacity, they also introduce added complexity to the computations involved."
   ]
  },
  {
   "cell_type": "markdown",
   "metadata": {
    "id": "BkyH1MtdPwdW"
   },
   "source": [
    "##**Question:** \n",
    "\n",
    "What can you say about the diffrence (or lack of thereof) between the validation and training accuracy? What can you say about the connection between the loss and the accuracy? **(5 Points)**\n",
    "\n",
    "**Your answer:** Training accuracy is higher than validation accuracy. The results may indicate small overfitting. The model may be too complex, capturing noise in the training data rather than genuine patterns. Therfore,The model may not perform well on new data, as it has memorized training examples rather than learning underlying patterns.\n",
    "The loss function quantifies the extent of errors in model predictions, providing a continuous measure of performance, while accuracy represents the ratio of correctly predicted instances, offering a binary assessment of overall correctness. "
   ]
  },
  {
   "cell_type": "markdown",
   "metadata": {
    "id": "Yh8-pdw3-3u7"
   },
   "source": [
    "# The End"
   ]
  },
  {
   "cell_type": "code",
   "execution_count": null,
   "metadata": {
    "collapsed": false
   },
   "outputs": [],
   "source": []
  }
 ],
 "metadata": {
  "colab": {
   "collapsed_sections": [
    "Oa-bjEWl9fW6",
    "8MeVWzF19mVA"
   ],
   "name": "HW2.ipynb",
   "provenance": []
  },
  "kernelspec": {
   "display_name": "Python 3 (ipykernel)",
   "language": "python",
   "name": "python3"
  },
  "language_info": {
   "codemirror_mode": {
    "name": "ipython",
    "version": 3
   },
   "file_extension": ".py",
   "mimetype": "text/x-python",
   "name": "python",
   "nbconvert_exporter": "python",
   "pygments_lexer": "ipython3",
   "version": "3.11.5"
  },
  "toc": {
   "base_numbering": 1,
   "nav_menu": {},
   "number_sections": true,
   "sideBar": true,
   "skip_h1_title": false,
   "title_cell": "Table of Contents",
   "title_sidebar": "Contents",
   "toc_cell": false,
   "toc_position": {},
   "toc_section_display": true,
   "toc_window_display": false
  },
  "varInspector": {
   "cols": {
    "lenName": 16,
    "lenType": 16,
    "lenVar": 40
   },
   "kernels_config": {
    "python": {
     "delete_cmd_postfix": "",
     "delete_cmd_prefix": "del ",
     "library": "var_list.py",
     "varRefreshCmd": "print(var_dic_list())"
    },
    "r": {
     "delete_cmd_postfix": ") ",
     "delete_cmd_prefix": "rm(",
     "library": "var_list.r",
     "varRefreshCmd": "cat(var_dic_list()) "
    }
   },
   "types_to_exclude": [
    "module",
    "function",
    "builtin_function_or_method",
    "instance",
    "_Feature"
   ],
   "window_display": false
  }
 },
 "nbformat": 4,
 "nbformat_minor": 1
}
